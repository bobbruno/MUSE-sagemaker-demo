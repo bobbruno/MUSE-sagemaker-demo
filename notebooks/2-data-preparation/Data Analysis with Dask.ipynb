{
 "cells": [
  {
   "cell_type": "markdown",
   "metadata": {},
   "source": [
    "# Dataset Analysis"
   ]
  },
  {
   "cell_type": "markdown",
   "metadata": {},
   "source": [
    "This notebook is for analyzing and cleansing the [book depository dataset](https://www.kaggle.com/sp1thas/book-depository-dataset). We'll use [Dask](https://dask.org) instead of Pandas due to the dataset size. It will still be executed locally on the Notebook, as this is an exploratory data analysis task, to determine what processing is needed."
   ]
  },
  {
   "cell_type": "markdown",
   "metadata": {},
   "source": [
    "## Environment Setup\n",
    "\n",
    "We'll use some packages that don't come pre-installed with SageMaker, therefore we need to install them. It's important to keep a `requirements.txt` file as we do this, to ensure we can replicate the environment when automating the task. If we commonly need these, it's recommended to create a [lifecycle configuration](https://docs.aws.amazon.com/sagemaker/latest/dg/notebook-lifecycle-config.html) to reproduce the environment.\n",
    "\n",
    "You can find examples of lifecycle configurations [here](https://github.com/aws-samples/amazon-sagemaker-notebook-instance-lifecycle-config-samples). [This support note](https://aws.amazon.com/premiumsupport/knowledge-center/sagemaker-lifecycle-script-timeout/) also shows how to solve a common timeout problem with complex configurations - configuration scripts have a maximum execution time of five minutes, after which they are aborted and the notebook creation fails."
   ]
  },
  {
   "cell_type": "code",
   "execution_count": 1,
   "metadata": {},
   "outputs": [
    {
     "name": "stdout",
     "output_type": "stream",
     "text": [
      "seaborn>=0.10.1\n",
      "dask[complete]>=2.17.2\n",
      "langdetect>=1.0.8\n",
      "cloudpickle>=1.3.0"
     ]
    }
   ],
   "source": [
    "!cat dask-local/requirements.txt"
   ]
  },
  {
   "cell_type": "code",
   "execution_count": 2,
   "metadata": {
    "Collapsed": "false"
   },
   "outputs": [
    {
     "name": "stdout",
     "output_type": "stream",
     "text": [
      "\u001b[33mYou are using pip version 10.0.1, however version 20.2b1 is available.\n",
      "You should consider upgrading via the 'pip install --upgrade pip' command.\u001b[0m\n"
     ]
    }
   ],
   "source": [
    "!pip install -U -q -r dask-local/requirements.txt "
   ]
  },
  {
   "cell_type": "markdown",
   "metadata": {},
   "source": [
    "## Initialization"
   ]
  },
  {
   "cell_type": "code",
   "execution_count": 3,
   "metadata": {
    "Collapsed": "false"
   },
   "outputs": [],
   "source": [
    "from dask.distributed import Client, LocalCluster\n",
    "cluster = LocalCluster()\n",
    "client = Client(cluster)"
   ]
  },
  {
   "cell_type": "code",
   "execution_count": 4,
   "metadata": {
    "Collapsed": "false"
   },
   "outputs": [],
   "source": [
    "import boto3\n",
    "import pandas as pd\n",
    "import dask.dataframe as dd\n",
    "import os\n",
    "import shutil\n",
    "import seaborn as sns\n",
    "import matplotlib.pyplot as plt\n",
    "from typing import Optional, List, Union\n",
    "from langdetect import detect as detect_lang\n",
    "import csv\n",
    "import numpy as np\n",
    "\n",
    "sns.set_style('darkgrid')"
   ]
  },
  {
   "cell_type": "markdown",
   "metadata": {
    "Collapsed": "false"
   },
   "source": [
    "## Retrieve the dataset\n",
    "\n",
    "The dataset, as explained in [its source](https://www.kaggle.com/sp1thas/book-depository-dataset), is made of several files. `dataset.csv` contains the most fields of the dataset. `authors.csv`, `categories.csv`, `formats.csv` and `places.csv` work as lookup tables for the corresponding fields of the dataset.\n",
    "\n",
    "We're interested in the `description` field contained in the `dataset.csv` file, but other interesting fields to retrieve are `authors`, `categories`, `lang` and `title`.\n",
    "\n",
    "First, let's copy the files from S3 to the local disk, for easier manipulation."
   ]
  },
  {
   "cell_type": "code",
   "execution_count": 5,
   "metadata": {
    "Collapsed": "false"
   },
   "outputs": [
    {
     "name": "stdout",
     "output_type": "stream",
     "text": [
      "The raw dataset will be downloaded to /home/ec2-user/SageMaker/MUSE-sagemaker-development/data/book-depository/raw\n",
      "The final cleaned dataset will be saved at /home/ec2-user/SageMaker/MUSE-sagemaker-development/data/book-depository/cleaned\n"
     ]
    }
   ],
   "source": [
    "raw_bucket = 'zrmar-open-datasets'\n",
    "raw_s3_path = 'text/kaggle-book-depository/raw'\n",
    "files = ['categories', 'dataset', 'formats', 'places']\n",
    "\n",
    "raw_data_dir = os.path.abspath('/home/ec2-user/SageMaker/MUSE-sagemaker-development/data/book-depository/raw')\n",
    "temp_data_path = os.path.abspath('/tmp/MUSE-sagemaker-development/data/book-depository/cleaned')\n",
    "cleaned_data_dir = os.path.abspath('/home/ec2-user/SageMaker/MUSE-sagemaker-development/data/book-depository/cleaned')\n",
    "print(f'The raw dataset will be downloaded to {raw_data_dir}')\n",
    "print(f'The final cleaned dataset will be saved at {cleaned_data_dir}')"
   ]
  },
  {
   "cell_type": "code",
   "execution_count": 6,
   "metadata": {
    "Collapsed": "false"
   },
   "outputs": [
    {
     "name": "stdout",
     "output_type": "stream",
     "text": [
      "Downloading text/kaggle-book-depository/raw/categories.csv...\n",
      "Downloading text/kaggle-book-depository/raw/dataset.csv...\n",
      "Downloading text/kaggle-book-depository/raw/formats.csv...\n",
      "Downloading text/kaggle-book-depository/raw/places.csv...\n"
     ]
    }
   ],
   "source": [
    "shutil.rmtree(raw_data_dir, ignore_errors=True)\n",
    "os.makedirs(raw_data_dir)\n",
    "\n",
    "s3 = boto3.client('s3')\n",
    "for f in files:\n",
    "    source_path = f'{raw_s3_path}/{f}.csv'\n",
    "    print(f'Downloading {source_path}...')\n",
    "    s3.download_file(raw_bucket, source_path, f'{raw_data_dir}/{f}.csv')"
   ]
  },
  {
   "cell_type": "markdown",
   "metadata": {},
   "source": [
    "Now that we have the raw CSV, we'll set up some functions for processing the data as we load it\n",
    "- Converting the strings representation of lists of authors and categories to actual lists\n",
    "\n",
    "After loading, we also:\n",
    "- Remove the rows without a description\n",
    "- Generate counts of authors, categories and # of words in descriptions\n",
    "- Run a language detection to later check the quality of the language label\n",
    "- Keep only the rows where either the labeled or supported language is in the list of languages supported by MUSE\n",
    "- Save a version of the dataset partitioned in several files, which will allow better parallelism."
   ]
  },
  {
   "cell_type": "code",
   "execution_count": 7,
   "metadata": {
    "Collapsed": "false"
   },
   "outputs": [],
   "source": [
    "from langdetect import detect as detect_lang, DetectorFactory\n",
    "DetectorFactory.seed = 0\n",
    "\n",
    "def conv_str_int_list(str_int_list: str) -> List[int]:\n",
    "    try:\n",
    "        if len(str_int_list[1:-1]):\n",
    "            return list(map(int, str_int_list[1:-1].split(',')))\n",
    "        else:\n",
    "            return []\n",
    "    except ValueError:\n",
    "        print(str_int_list)\n",
    "        raise\n",
    "        \n",
    "def detect_descr_lang(row: pd.Series) :\n",
    "    if row.lang == 'en':  # Accept that english is correct\n",
    "        return('en')\n",
    "    else:\n",
    "        try:\n",
    "            detected_lang = detect_lang(row.description)  # If it can't detect the language, it returns 'unknown'\n",
    "        except:\n",
    "            detected_lang = 'unknown'\n",
    "        if (row.lang == 'ru' and detected_lang != 'en'):   # If reported russion and detected not english, assume reported is correct\n",
    "            detected_lang = 'ru'\n",
    "        elif(detected_lang in {'zh-cn', 'ko', 'zh-tw'}):   # Consolidate all chinese variants and korean as general chinese.\n",
    "            detected_lang = 'zh'\n",
    "        return(detected_lang)\n",
    "    \n",
    "def detect_df_lang(df: pd.DataFrame) -> pd.DataFrame:\n",
    "    return(df.apply(detect_descr_lang, axis=1))\n",
    "\n",
    "def shorten_description(description: str, max_length=1024) -> str:\n",
    "    return(description[:max_length])\n",
    "\n",
    "SUPPORTED_LANGUAGES = {'ar', 'nl', 'en', 'de', 'fr', 'it', 'pt', 'es', 'ja', 'ko', 'ru', 'pl', 'tr', 'zh', 'zh-tw', 'th'}"
   ]
  },
  {
   "cell_type": "code",
   "execution_count": 11,
   "metadata": {
    "Collapsed": "false"
   },
   "outputs": [],
   "source": [
    "def gen_cleaned_data_v1(source_data_dir: str, dest_data_dir: str, supported_languages: List=SUPPORTED_LANGUAGES, block_size: Union[int, str]='32MB') -> dd.DataFrame: \n",
    "    raw_dataset = dd.read_csv(\n",
    "        f'{source_data_dir}/dataset.csv', header=0, \n",
    "        blocksize=block_size,\n",
    "        usecols=['description', 'authors', 'categories', 'lang', 'title'],\n",
    "        converters = {\n",
    "            'authors': conv_str_int_list,\n",
    "            'categories': conv_str_int_list\n",
    "        }\n",
    "    ).repartition(partition_size=block_size)\n",
    "    dataset = raw_dataset[~ raw_dataset.description.isna()]\n",
    "    dataset['n_authors'] = dataset.authors.apply(len, meta=pd.Series(name='n_authors', dtype='i4'))\n",
    "    dataset['n_categories'] = dataset.categories.apply(len, meta=pd.Series(name='n_categories', dtype='i4'))\n",
    "    dataset['descr_len_words'] = dataset.map_partitions(lambda df: df.description.apply(lambda t: len(t.split(' '))), meta=pd.Series(name='descr_len_words', dtype='i4'))\n",
    "    dataset['detected_lang'] = dataset.map_partitions(detect_df_lang, meta=pd.Series(name='detected_lang', dtype='U'))\n",
    "    dataset['lang_match'] = dataset.lang == dataset.detected_lang\n",
    "    \n",
    "    dataset = dataset[dataset.lang.isin(supported_languages) | dataset.detected_lang.isin(supported_languages)]\n",
    "    shutil.rmtree(dest_data_dir, ignore_errors=True)\n",
    "    dataset.to_csv(f'{dest_data_dir}/dataset-*.csv', compute=True, index=False, quoting=csv.QUOTE_NONNUMERIC)\n",
    "    return dataset"
   ]
  },
  {
   "cell_type": "code",
   "execution_count": 12,
   "metadata": {
    "Collapsed": "false"
   },
   "outputs": [
    {
     "name": "stdout",
     "output_type": "stream",
     "text": [
      "CPU times: user 15.6 s, sys: 1.22 s, total: 16.8 s\n",
      "Wall time: 5min 7s\n"
     ]
    },
    {
     "data": {
      "text/html": [
       "<div><strong>Dask DataFrame Structure:</strong></div>\n",
       "<div>\n",
       "<style scoped>\n",
       "    .dataframe tbody tr th:only-of-type {\n",
       "        vertical-align: middle;\n",
       "    }\n",
       "\n",
       "    .dataframe tbody tr th {\n",
       "        vertical-align: top;\n",
       "    }\n",
       "\n",
       "    .dataframe thead th {\n",
       "        text-align: right;\n",
       "    }\n",
       "</style>\n",
       "<table border=\"1\" class=\"dataframe\">\n",
       "  <thead>\n",
       "    <tr style=\"text-align: right;\">\n",
       "      <th></th>\n",
       "      <th>authors</th>\n",
       "      <th>categories</th>\n",
       "      <th>description</th>\n",
       "      <th>lang</th>\n",
       "      <th>title</th>\n",
       "      <th>n_authors</th>\n",
       "      <th>n_categories</th>\n",
       "      <th>descr_len_words</th>\n",
       "      <th>detected_lang</th>\n",
       "      <th>lang_match</th>\n",
       "    </tr>\n",
       "    <tr>\n",
       "      <th>npartitions=68</th>\n",
       "      <th></th>\n",
       "      <th></th>\n",
       "      <th></th>\n",
       "      <th></th>\n",
       "      <th></th>\n",
       "      <th></th>\n",
       "      <th></th>\n",
       "      <th></th>\n",
       "      <th></th>\n",
       "      <th></th>\n",
       "    </tr>\n",
       "  </thead>\n",
       "  <tbody>\n",
       "    <tr>\n",
       "      <th></th>\n",
       "      <td>object</td>\n",
       "      <td>object</td>\n",
       "      <td>object</td>\n",
       "      <td>object</td>\n",
       "      <td>object</td>\n",
       "      <td>float64</td>\n",
       "      <td>float64</td>\n",
       "      <td>float64</td>\n",
       "      <td>object</td>\n",
       "      <td>bool</td>\n",
       "    </tr>\n",
       "    <tr>\n",
       "      <th></th>\n",
       "      <td>...</td>\n",
       "      <td>...</td>\n",
       "      <td>...</td>\n",
       "      <td>...</td>\n",
       "      <td>...</td>\n",
       "      <td>...</td>\n",
       "      <td>...</td>\n",
       "      <td>...</td>\n",
       "      <td>...</td>\n",
       "      <td>...</td>\n",
       "    </tr>\n",
       "    <tr>\n",
       "      <th>...</th>\n",
       "      <td>...</td>\n",
       "      <td>...</td>\n",
       "      <td>...</td>\n",
       "      <td>...</td>\n",
       "      <td>...</td>\n",
       "      <td>...</td>\n",
       "      <td>...</td>\n",
       "      <td>...</td>\n",
       "      <td>...</td>\n",
       "      <td>...</td>\n",
       "    </tr>\n",
       "    <tr>\n",
       "      <th></th>\n",
       "      <td>...</td>\n",
       "      <td>...</td>\n",
       "      <td>...</td>\n",
       "      <td>...</td>\n",
       "      <td>...</td>\n",
       "      <td>...</td>\n",
       "      <td>...</td>\n",
       "      <td>...</td>\n",
       "      <td>...</td>\n",
       "      <td>...</td>\n",
       "    </tr>\n",
       "    <tr>\n",
       "      <th></th>\n",
       "      <td>...</td>\n",
       "      <td>...</td>\n",
       "      <td>...</td>\n",
       "      <td>...</td>\n",
       "      <td>...</td>\n",
       "      <td>...</td>\n",
       "      <td>...</td>\n",
       "      <td>...</td>\n",
       "      <td>...</td>\n",
       "      <td>...</td>\n",
       "    </tr>\n",
       "  </tbody>\n",
       "</table>\n",
       "</div>\n",
       "<div>Dask Name: getitem, 1838 tasks</div>"
      ],
      "text/plain": [
       "Dask DataFrame Structure:\n",
       "               authors categories description    lang   title n_authors n_categories descr_len_words detected_lang lang_match\n",
       "npartitions=68                                                                                                               \n",
       "                object     object      object  object  object   float64      float64         float64        object       bool\n",
       "                   ...        ...         ...     ...     ...       ...          ...             ...           ...        ...\n",
       "...                ...        ...         ...     ...     ...       ...          ...             ...           ...        ...\n",
       "                   ...        ...         ...     ...     ...       ...          ...             ...           ...        ...\n",
       "                   ...        ...         ...     ...     ...       ...          ...             ...           ...        ...\n",
       "Dask Name: getitem, 1838 tasks"
      ]
     },
     "execution_count": 12,
     "metadata": {},
     "output_type": "execute_result"
    }
   ],
   "source": [
    "%%time\n",
    "\n",
    "gen_cleaned_data_v1(raw_data_dir, temp_data_path)"
   ]
  },
  {
   "cell_type": "markdown",
   "metadata": {},
   "source": [
    "After that, we load the cleaned dataset."
   ]
  },
  {
   "cell_type": "code",
   "execution_count": 13,
   "metadata": {
    "Collapsed": "false"
   },
   "outputs": [],
   "source": [
    "analysis_df = dd.read_csv(\n",
    "   f'{temp_data_path}/dataset-*.csv', header=0,\n",
    "   converters = {\n",
    "       'authors': conv_str_int_list,\n",
    "       'categories': conv_str_int_list\n",
    "   }\n",
    ")"
   ]
  },
  {
   "cell_type": "markdown",
   "metadata": {},
   "source": [
    "First inspection of cleaned dataset:"
   ]
  },
  {
   "cell_type": "code",
   "execution_count": 14,
   "metadata": {
    "Collapsed": "false"
   },
   "outputs": [
    {
     "name": "stdout",
     "output_type": "stream",
     "text": [
      "The dataset has 1133755 rows and 10 columns.\n",
      "\n",
      "Dataset columns:\n",
      "   - authors: object\n",
      "   - categories: object\n",
      "   - description: object\n",
      "   - lang: object\n",
      "   - title: object\n",
      "   - n_authors: int64\n",
      "   - n_categories: int64\n",
      "   - descr_len_words: int64\n",
      "   - detected_lang: object\n",
      "   - lang_match: bool\n",
      "CPU times: user 706 ms, sys: 0 ns, total: 706 ms\n",
      "Wall time: 5.95 s\n"
     ]
    }
   ],
   "source": [
    "%%time\n",
    "\n",
    "rows, columns = (lambda x: (x[0].compute(), x[1]))(analysis_df.shape)\n",
    "print(f'The dataset has {rows} rows and {columns} columns.\\n')\n",
    "print('Dataset columns:\\n   - ' + '\\n   - '.join(f'{name}: {dtype}' for (name, dtype) in zip(analysis_df.columns, analysis_df.dtypes)))"
   ]
  },
  {
   "cell_type": "code",
   "execution_count": 15,
   "metadata": {},
   "outputs": [
    {
     "data": {
      "text/html": [
       "<div>\n",
       "<style scoped>\n",
       "    .dataframe tbody tr th:only-of-type {\n",
       "        vertical-align: middle;\n",
       "    }\n",
       "\n",
       "    .dataframe tbody tr th {\n",
       "        vertical-align: top;\n",
       "    }\n",
       "\n",
       "    .dataframe thead th {\n",
       "        text-align: right;\n",
       "    }\n",
       "</style>\n",
       "<table border=\"1\" class=\"dataframe\">\n",
       "  <thead>\n",
       "    <tr style=\"text-align: right;\">\n",
       "      <th></th>\n",
       "      <th>authors</th>\n",
       "      <th>categories</th>\n",
       "      <th>description</th>\n",
       "      <th>lang</th>\n",
       "      <th>title</th>\n",
       "      <th>n_authors</th>\n",
       "      <th>n_categories</th>\n",
       "      <th>descr_len_words</th>\n",
       "      <th>detected_lang</th>\n",
       "      <th>lang_match</th>\n",
       "    </tr>\n",
       "  </thead>\n",
       "  <tbody>\n",
       "    <tr>\n",
       "      <th>0</th>\n",
       "      <td>[1, 2]</td>\n",
       "      <td>[235, 3386, 736, 763]</td>\n",
       "      <td>________________________________</td>\n",
       "      <td>en</td>\n",
       "      <td>Journey Into Darkness</td>\n",
       "      <td>2</td>\n",
       "      <td>4</td>\n",
       "      <td>1</td>\n",
       "      <td>en</td>\n",
       "      <td>True</td>\n",
       "    </tr>\n",
       "    <tr>\n",
       "      <th>1</th>\n",
       "      <td>[3]</td>\n",
       "      <td>[360, 2632]</td>\n",
       "      <td>A fake marriage is the last thing he wants . ....</td>\n",
       "      <td>en</td>\n",
       "      <td>The Mercenary : Order of the Broken Blade</td>\n",
       "      <td>1</td>\n",
       "      <td>2</td>\n",
       "      <td>17</td>\n",
       "      <td>en</td>\n",
       "      <td>True</td>\n",
       "    </tr>\n",
       "    <tr>\n",
       "      <th>2</th>\n",
       "      <td>[4]</td>\n",
       "      <td>[1703, 2771, 2818, 3097]</td>\n",
       "      <td>Once the dust has settled, you'll need to know...</td>\n",
       "      <td>en</td>\n",
       "      <td>100 Skills You'll Need for the End of the Worl...</td>\n",
       "      <td>1</td>\n",
       "      <td>4</td>\n",
       "      <td>97</td>\n",
       "      <td>en</td>\n",
       "      <td>True</td>\n",
       "    </tr>\n",
       "    <tr>\n",
       "      <th>3</th>\n",
       "      <td>[5]</td>\n",
       "      <td>[819, 3364, 1853, 2977]</td>\n",
       "      <td>The Daily Mail and the Spectator Book of the Y...</td>\n",
       "      <td>en</td>\n",
       "      <td>How to Land a Plane</td>\n",
       "      <td>1</td>\n",
       "      <td>4</td>\n",
       "      <td>11</td>\n",
       "      <td>en</td>\n",
       "      <td>True</td>\n",
       "    </tr>\n",
       "    <tr>\n",
       "      <th>4</th>\n",
       "      <td>[6]</td>\n",
       "      <td>[1694, 1703, 2818]</td>\n",
       "      <td>Easy, do-able, down to earth ideas and suggest...</td>\n",
       "      <td>en</td>\n",
       "      <td>The Sustainable(ish) Living Guide : Everything...</td>\n",
       "      <td>1</td>\n",
       "      <td>3</td>\n",
       "      <td>15</td>\n",
       "      <td>en</td>\n",
       "      <td>True</td>\n",
       "    </tr>\n",
       "  </tbody>\n",
       "</table>\n",
       "</div>"
      ],
      "text/plain": [
       "  authors                categories  \\\n",
       "0  [1, 2]     [235, 3386, 736, 763]   \n",
       "1     [3]               [360, 2632]   \n",
       "2     [4]  [1703, 2771, 2818, 3097]   \n",
       "3     [5]   [819, 3364, 1853, 2977]   \n",
       "4     [6]        [1694, 1703, 2818]   \n",
       "\n",
       "                                         description lang  \\\n",
       "0                   ________________________________   en   \n",
       "1  A fake marriage is the last thing he wants . ....   en   \n",
       "2  Once the dust has settled, you'll need to know...   en   \n",
       "3  The Daily Mail and the Spectator Book of the Y...   en   \n",
       "4  Easy, do-able, down to earth ideas and suggest...   en   \n",
       "\n",
       "                                               title  n_authors  n_categories  \\\n",
       "0                              Journey Into Darkness          2             4   \n",
       "1          The Mercenary : Order of the Broken Blade          1             2   \n",
       "2  100 Skills You'll Need for the End of the Worl...          1             4   \n",
       "3                                How to Land a Plane          1             4   \n",
       "4  The Sustainable(ish) Living Guide : Everything...          1             3   \n",
       "\n",
       "   descr_len_words detected_lang  lang_match  \n",
       "0                1            en        True  \n",
       "1               17            en        True  \n",
       "2               97            en        True  \n",
       "3               11            en        True  \n",
       "4               15            en        True  "
      ]
     },
     "execution_count": 15,
     "metadata": {},
     "output_type": "execute_result"
    }
   ],
   "source": [
    "analysis_df.head()"
   ]
  },
  {
   "cell_type": "markdown",
   "metadata": {
    "Collapsed": "false"
   },
   "source": [
    "## Cleansing the Dataset"
   ]
  },
  {
   "cell_type": "markdown",
   "metadata": {},
   "source": [
    "### Validating that Language Labels are useful"
   ]
  },
  {
   "cell_type": "markdown",
   "metadata": {
    "Collapsed": "false"
   },
   "source": [
    "We suspect that the labeled languages do not correspond to the reality, so we'll do some graphical analysis of informed vs detected language to check our hypothesis."
   ]
  },
  {
   "cell_type": "code",
   "execution_count": 16,
   "metadata": {
    "Collapsed": "false"
   },
   "outputs": [
    {
     "name": "stdout",
     "output_type": "stream",
     "text": [
      "CPU times: user 768 ms, sys: 32.5 ms, total: 801 ms\n",
      "Wall time: 5.96 s\n"
     ]
    }
   ],
   "source": [
    "%%time\n",
    "\n",
    "languages = analysis_df.groupby(['detected_lang', 'lang']).size().reset_index().fillna(0).compute()\n",
    "languages.columns = ['detected_lang', 'lang', 'num_docs']\n",
    "languages['lang_match'] = languages.lang == languages.detected_lang"
   ]
  },
  {
   "cell_type": "code",
   "execution_count": 17,
   "metadata": {},
   "outputs": [
    {
     "data": {
      "text/html": [
       "<div>\n",
       "<style scoped>\n",
       "    .dataframe tbody tr th:only-of-type {\n",
       "        vertical-align: middle;\n",
       "    }\n",
       "\n",
       "    .dataframe tbody tr th {\n",
       "        vertical-align: top;\n",
       "    }\n",
       "\n",
       "    .dataframe thead th {\n",
       "        text-align: right;\n",
       "    }\n",
       "</style>\n",
       "<table border=\"1\" class=\"dataframe\">\n",
       "  <thead>\n",
       "    <tr style=\"text-align: right;\">\n",
       "      <th></th>\n",
       "      <th>detected_lang</th>\n",
       "      <th>lang</th>\n",
       "      <th>num_docs</th>\n",
       "      <th>lang_match</th>\n",
       "    </tr>\n",
       "  </thead>\n",
       "  <tbody>\n",
       "    <tr>\n",
       "      <th>14</th>\n",
       "      <td>en</td>\n",
       "      <td>zh</td>\n",
       "      <td>317</td>\n",
       "      <td>False</td>\n",
       "    </tr>\n",
       "    <tr>\n",
       "      <th>37</th>\n",
       "      <td>zh</td>\n",
       "      <td>zh</td>\n",
       "      <td>41</td>\n",
       "      <td>True</td>\n",
       "    </tr>\n",
       "    <tr>\n",
       "      <th>207</th>\n",
       "      <td>fr</td>\n",
       "      <td>zh</td>\n",
       "      <td>2</td>\n",
       "      <td>False</td>\n",
       "    </tr>\n",
       "    <tr>\n",
       "      <th>229</th>\n",
       "      <td>de</td>\n",
       "      <td>zh</td>\n",
       "      <td>1</td>\n",
       "      <td>False</td>\n",
       "    </tr>\n",
       "    <tr>\n",
       "      <th>272</th>\n",
       "      <td>unknown</td>\n",
       "      <td>zh</td>\n",
       "      <td>1</td>\n",
       "      <td>False</td>\n",
       "    </tr>\n",
       "  </tbody>\n",
       "</table>\n",
       "</div>"
      ],
      "text/plain": [
       "    detected_lang lang  num_docs  lang_match\n",
       "14             en   zh       317       False\n",
       "37             zh   zh        41        True\n",
       "207            fr   zh         2       False\n",
       "229            de   zh         1       False\n",
       "272       unknown   zh         1       False"
      ]
     },
     "execution_count": 17,
     "metadata": {},
     "output_type": "execute_result"
    }
   ],
   "source": [
    "languages[languages.lang=='zh']"
   ]
  },
  {
   "cell_type": "code",
   "execution_count": 18,
   "metadata": {},
   "outputs": [
    {
     "data": {
      "text/html": [
       "<div>\n",
       "<style scoped>\n",
       "    .dataframe tbody tr th:only-of-type {\n",
       "        vertical-align: middle;\n",
       "    }\n",
       "\n",
       "    .dataframe tbody tr th {\n",
       "        vertical-align: top;\n",
       "    }\n",
       "\n",
       "    .dataframe thead th {\n",
       "        text-align: right;\n",
       "    }\n",
       "</style>\n",
       "<table border=\"1\" class=\"dataframe\">\n",
       "  <thead>\n",
       "    <tr style=\"text-align: right;\">\n",
       "      <th></th>\n",
       "      <th>description</th>\n",
       "      <th>lang</th>\n",
       "      <th>detected_lang</th>\n",
       "    </tr>\n",
       "  </thead>\n",
       "  <tbody>\n",
       "    <tr>\n",
       "      <th>4118</th>\n",
       "      <td>关于特斯拉汽车和能源公司的故事简直令人惊叹！你不得不真正钦佩Elon Musk和他在特斯拉的...</td>\n",
       "      <td>zh</td>\n",
       "      <td>zh</td>\n",
       "    </tr>\n",
       "    <tr>\n",
       "      <th>974</th>\n",
       "      <td>這本書是一本由Access Consciousness(TM) 的創辦人加利-德格拉斯 從通...</td>\n",
       "      <td>zh</td>\n",
       "      <td>zh</td>\n",
       "    </tr>\n",
       "    <tr>\n",
       "      <th>6974</th>\n",
       "      <td>我出生在桂林，一座风光旖旎的城市，一座小富即安的城市。</td>\n",
       "      <td>zh</td>\n",
       "      <td>zh</td>\n",
       "    </tr>\n",
       "    <tr>\n",
       "      <th>9910</th>\n",
       "      <td>《篆刻跟我学》是出版过多部畅销篆刻著作的著名书画篆刻家吴颐人先生的力作，遗憾的是，几年来已发...</td>\n",
       "      <td>zh</td>\n",
       "      <td>zh</td>\n",
       "    </tr>\n",
       "    <tr>\n",
       "      <th>16127</th>\n",
       "      <td>本书集结旅美华裔女作家余国英女士发表的十篇散文：明亮的天窗、我爱下雨天、乘船访友记、爱之小车...</td>\n",
       "      <td>zh</td>\n",
       "      <td>zh</td>\n",
       "    </tr>\n",
       "    <tr>\n",
       "      <th>10969</th>\n",
       "      <td>《大师谈收藏：红木家具投资收藏入门（第二版）》以问答形式分别从红木家具的历史、材质、品类、工...</td>\n",
       "      <td>zh</td>\n",
       "      <td>zh</td>\n",
       "    </tr>\n",
       "    <tr>\n",
       "      <th>4549</th>\n",
       "      <td>《盆腔之痛》一书详细介绍了用于男女盆腔疼痛治疗的怀斯- 安德</td>\n",
       "      <td>zh</td>\n",
       "      <td>zh</td>\n",
       "    </tr>\n",
       "    <tr>\n",
       "      <th>9711</th>\n",
       "      <td>绘梦会让你为自己的人生吸引更多的目标和正能量。</td>\n",
       "      <td>zh</td>\n",
       "      <td>zh</td>\n",
       "    </tr>\n",
       "    <tr>\n",
       "      <th>4210</th>\n",
       "      <td>生活中的趣味化学是由上海市青少年科技教学中心化学教研室编写的一本以生活中的化学知识为切入点，...</td>\n",
       "      <td>zh</td>\n",
       "      <td>zh</td>\n",
       "    </tr>\n",
       "    <tr>\n",
       "      <th>11508</th>\n",
       "      <td>哈尔施塔特在中国非常有名，每年都有成千上万的中国人来到奥地利小镇。这是因为2012年由五矿地...</td>\n",
       "      <td>zh</td>\n",
       "      <td>zh</td>\n",
       "    </tr>\n",
       "    <tr>\n",
       "      <th>3292</th>\n",
       "      <td>这本小书适合所有旅行者和蛋糕爱好者。它没有计划 - 它刚刚发生在我们在卢森堡的第一年，充满了...</td>\n",
       "      <td>zh</td>\n",
       "      <td>zh</td>\n",
       "    </tr>\n",
       "    <tr>\n",
       "      <th>7367</th>\n",
       "      <td>仙是中国传统文化中流传很广的特殊神圣群体，民间传说中有许多仙人以及各种各样与仙人有关的故事；...</td>\n",
       "      <td>zh</td>\n",
       "      <td>zh</td>\n",
       "    </tr>\n",
       "    <tr>\n",
       "      <th>7368</th>\n",
       "      <td>上海辞书出版社最新推出的《鬼》为\"民间信仰口袋书系列\"之一种，全套书共有《鬼》《神》《仙》《...</td>\n",
       "      <td>zh</td>\n",
       "      <td>zh</td>\n",
       "    </tr>\n",
       "    <tr>\n",
       "      <th>9308</th>\n",
       "      <td>Les Dialogues de Meou-tseu pour dissiper la co...</td>\n",
       "      <td>zh</td>\n",
       "      <td>fr</td>\n",
       "    </tr>\n",
       "    <tr>\n",
       "      <th>11360</th>\n",
       "      <td>Les livres de morale, shanshu sont encore peu ...</td>\n",
       "      <td>zh</td>\n",
       "      <td>fr</td>\n",
       "    </tr>\n",
       "    <tr>\n",
       "      <th>1381</th>\n",
       "      <td>本書記錄潘國鍵博士大半生宗教信仰探索的心路歷程 。 其中頗涉儒學、佛學及基督教義的比較和析述...</td>\n",
       "      <td>zh</td>\n",
       "      <td>zh</td>\n",
       "    </tr>\n",
       "    <tr>\n",
       "      <th>1546</th>\n",
       "      <td>\"人性\"问题直接关系到人类如何有效地增强自身素质、筑牢道德底线、维护社会文明进步、以确保人类...</td>\n",
       "      <td>zh</td>\n",
       "      <td>zh</td>\n",
       "    </tr>\n",
       "    <tr>\n",
       "      <th>5925</th>\n",
       "      <td>《怪》开宗名义就梳理了中国历代小说中的志怪传统，既厘定了全书研究范畴，又点明了主要素材出处，...</td>\n",
       "      <td>zh</td>\n",
       "      <td>zh</td>\n",
       "    </tr>\n",
       "    <tr>\n",
       "      <th>2855</th>\n",
       "      <td>Zweisprachiges Kinderbuch (ab 2 Jahren) Tim ka...</td>\n",
       "      <td>zh</td>\n",
       "      <td>de</td>\n",
       "    </tr>\n",
       "    <tr>\n",
       "      <th>7273</th>\n",
       "      <td>本书是奉贤区古华中学贤文化校本教材。本书遵循以人为本的核心理念，充分利用奉贤区\"贤文化\"读本...</td>\n",
       "      <td>zh</td>\n",
       "      <td>zh</td>\n",
       "    </tr>\n",
       "    <tr>\n",
       "      <th>7274</th>\n",
       "      <td>《青春练习曲：新中高级中学学子风采集》通过赤、橙、黄、绿、青、蓝、紫等七种不同的色彩，勾画出...</td>\n",
       "      <td>zh</td>\n",
       "      <td>zh</td>\n",
       "    </tr>\n",
       "    <tr>\n",
       "      <th>257</th>\n",
       "      <td>作者从一个教育工作者的立场出发，回顾自己三十多年来在教育教学、学校管理、教育科研等方面的探索...</td>\n",
       "      <td>zh</td>\n",
       "      <td>zh</td>\n",
       "    </tr>\n",
       "    <tr>\n",
       "      <th>340</th>\n",
       "      <td>本书为著名特级教师、浙江省绍兴市金近小学校长何夏寿的教育叙事集，以文学的笔法讲叙了自己经历的...</td>\n",
       "      <td>zh</td>\n",
       "      <td>zh</td>\n",
       "    </tr>\n",
       "    <tr>\n",
       "      <th>15610</th>\n",
       "      <td>本书稿是关于对高中学生创新素养培养的理论与实践研究的专著。上海基础教育的转型发展，需要在学生...</td>\n",
       "      <td>zh</td>\n",
       "      <td>zh</td>\n",
       "    </tr>\n",
       "    <tr>\n",
       "      <th>6655</th>\n",
       "      <td>小說分為四部曲：《叛教者》《獻身者》《跟隨者》《擘餅者》。前三部的故事彼此分離又相互關聯。情...</td>\n",
       "      <td>zh</td>\n",
       "      <td>zh</td>\n",
       "    </tr>\n",
       "    <tr>\n",
       "      <th>6341</th>\n",
       "      <td>本书从中医经络角度以及禅修角度探究养生太极拳的原理，使习修者实际体验太极拳养生的用处，从而达...</td>\n",
       "      <td>zh</td>\n",
       "      <td>zh</td>\n",
       "    </tr>\n",
       "    <tr>\n",
       "      <th>10217</th>\n",
       "      <td>《男篮女舞》是复旦中学体育组老师所汇编的一本校本教材。主要体现学校体育男生以篮球为主，女生以...</td>\n",
       "      <td>zh</td>\n",
       "      <td>zh</td>\n",
       "    </tr>\n",
       "    <tr>\n",
       "      <th>1496</th>\n",
       "      <td>1963 \"</td>\n",
       "      <td>zh</td>\n",
       "      <td>unknown</td>\n",
       "    </tr>\n",
       "    <tr>\n",
       "      <th>8649</th>\n",
       "      <td>《國鍵文集》主要輯錄潘國鍵博士六十歲前在香港《華僑日報》、《明報》及加拿大《時代周報》、《明...</td>\n",
       "      <td>zh</td>\n",
       "      <td>zh</td>\n",
       "    </tr>\n",
       "    <tr>\n",
       "      <th>12295</th>\n",
       "      <td>《國鍵文集》主要輯錄潘國鍵博士六十歲前在香港《華僑日報》、《明報》及加拿大《時代周報》、《明...</td>\n",
       "      <td>zh</td>\n",
       "      <td>zh</td>\n",
       "    </tr>\n",
       "    <tr>\n",
       "      <th>12296</th>\n",
       "      <td>內容簡介</td>\n",
       "      <td>zh</td>\n",
       "      <td>zh</td>\n",
       "    </tr>\n",
       "    <tr>\n",
       "      <th>13404</th>\n",
       "      <td>成为你，改变世界</td>\n",
       "      <td>zh</td>\n",
       "      <td>zh</td>\n",
       "    </tr>\n",
       "    <tr>\n",
       "      <th>5803</th>\n",
       "      <td>人是需要表达的动物，所以人发明了各种形式的表达方式，如文学、音乐、绘画等等。而语言 - 或者...</td>\n",
       "      <td>zh</td>\n",
       "      <td>zh</td>\n",
       "    </tr>\n",
       "    <tr>\n",
       "      <th>6768</th>\n",
       "      <td>它将为你呈现如何创造一个对你有效的世界。有多少人都像\"土拨鼠日\"那样过自己的一生----日复...</td>\n",
       "      <td>zh</td>\n",
       "      <td>zh</td>\n",
       "    </tr>\n",
       "    <tr>\n",
       "      <th>13537</th>\n",
       "      <td>《学校教育的历史使命》由浦东新区光明中学校长刘玉华撰写的一本关于在新教育理念下结合各校的特色...</td>\n",
       "      <td>zh</td>\n",
       "      <td>zh</td>\n",
       "    </tr>\n",
       "    <tr>\n",
       "      <th>4744</th>\n",
       "      <td>小說分為四部曲 《叛教者》《獻身者》《跟隨者》《擘餅者》。前三部的故事彼此分離又相互關聯。情...</td>\n",
       "      <td>zh</td>\n",
       "      <td>zh</td>\n",
       "    </tr>\n",
       "    <tr>\n",
       "      <th>12804</th>\n",
       "      <td>《品读中国茶：一杯茶里那一串热闹和门道》按国际读者视角，从历史、植物学、健康、分类标准、加工...</td>\n",
       "      <td>zh</td>\n",
       "      <td>zh</td>\n",
       "    </tr>\n",
       "    <tr>\n",
       "      <th>2937</th>\n",
       "      <td>在各种艺术品投资活动如火如荼的当下，收藏市场却良莠不齐、鱼龙混杂。为此，北京工艺美术学会组织...</td>\n",
       "      <td>zh</td>\n",
       "      <td>zh</td>\n",
       "    </tr>\n",
       "    <tr>\n",
       "      <th>2938</th>\n",
       "      <td>《投资收藏系列：名贵珠宝鉴赏与收藏》主要介绍名贵珠宝如钻石、红蓝宝石、祖母绿、金绿宝石、海蓝...</td>\n",
       "      <td>zh</td>\n",
       "      <td>zh</td>\n",
       "    </tr>\n",
       "    <tr>\n",
       "      <th>1935</th>\n",
       "      <td>该图书为旅日书画篆刻鉴赏家邹涛先生多年累积的文玩类书稿，内容包含笔、墨、纸、砚等各类文房雅玩...</td>\n",
       "      <td>zh</td>\n",
       "      <td>zh</td>\n",
       "    </tr>\n",
       "    <tr>\n",
       "      <th>8914</th>\n",
       "      <td>. . . 二十多年前，一组来自几个不同世界的个体，集结在我们太阳系接近地球的一个隐蔽地点，...</td>\n",
       "      <td>zh</td>\n",
       "      <td>zh</td>\n",
       "    </tr>\n",
       "    <tr>\n",
       "      <th>10937</th>\n",
       "      <td>杭州市钱江苑幼儿园在全面实施《国家中长期教育改革和发展规划纲要》的大背景下，对幼儿思维游戏设...</td>\n",
       "      <td>zh</td>\n",
       "      <td>zh</td>\n",
       "    </tr>\n",
       "    <tr>\n",
       "      <th>17008</th>\n",
       "      <td>西蒙-米勒薩斯是一名成功的领導,她走遍全球,展示如何从喜悦的空间经商。超 过二十年来,她一直...</td>\n",
       "      <td>zh</td>\n",
       "      <td>zh</td>\n",
       "    </tr>\n",
       "    <tr>\n",
       "      <th>4668</th>\n",
       "      <td>《一个人的阳台》是作者2009年到2019年旅居美国的随笔集，内容丰富多元，主题围绕着人的成...</td>\n",
       "      <td>zh</td>\n",
       "      <td>zh</td>\n",
       "    </tr>\n",
       "    <tr>\n",
       "      <th>9112</th>\n",
       "      <td>纳甲筮法是目前流传最广、最实用的一种卜筮方法。清初卜筮名家王洪绪先生所撰《卜筮正宗》，乃纳甲...</td>\n",
       "      <td>zh</td>\n",
       "      <td>zh</td>\n",
       "    </tr>\n",
       "  </tbody>\n",
       "</table>\n",
       "</div>"
      ],
      "text/plain": [
       "                                             description lang detected_lang\n",
       "4118   关于特斯拉汽车和能源公司的故事简直令人惊叹！你不得不真正钦佩Elon Musk和他在特斯拉的...   zh            zh\n",
       "974    這本書是一本由Access Consciousness(TM) 的創辦人加利-德格拉斯 從通...   zh            zh\n",
       "6974                         我出生在桂林，一座风光旖旎的城市，一座小富即安的城市。   zh            zh\n",
       "9910   《篆刻跟我学》是出版过多部畅销篆刻著作的著名书画篆刻家吴颐人先生的力作，遗憾的是，几年来已发...   zh            zh\n",
       "16127  本书集结旅美华裔女作家余国英女士发表的十篇散文：明亮的天窗、我爱下雨天、乘船访友记、爱之小车...   zh            zh\n",
       "10969  《大师谈收藏：红木家具投资收藏入门（第二版）》以问答形式分别从红木家具的历史、材质、品类、工...   zh            zh\n",
       "4549                      《盆腔之痛》一书详细介绍了用于男女盆腔疼痛治疗的怀斯- 安德   zh            zh\n",
       "9711                             绘梦会让你为自己的人生吸引更多的目标和正能量。   zh            zh\n",
       "4210   生活中的趣味化学是由上海市青少年科技教学中心化学教研室编写的一本以生活中的化学知识为切入点，...   zh            zh\n",
       "11508  哈尔施塔特在中国非常有名，每年都有成千上万的中国人来到奥地利小镇。这是因为2012年由五矿地...   zh            zh\n",
       "3292   这本小书适合所有旅行者和蛋糕爱好者。它没有计划 - 它刚刚发生在我们在卢森堡的第一年，充满了...   zh            zh\n",
       "7367   仙是中国传统文化中流传很广的特殊神圣群体，民间传说中有许多仙人以及各种各样与仙人有关的故事；...   zh            zh\n",
       "7368   上海辞书出版社最新推出的《鬼》为\"民间信仰口袋书系列\"之一种，全套书共有《鬼》《神》《仙》《...   zh            zh\n",
       "9308   Les Dialogues de Meou-tseu pour dissiper la co...   zh            fr\n",
       "11360  Les livres de morale, shanshu sont encore peu ...   zh            fr\n",
       "1381   本書記錄潘國鍵博士大半生宗教信仰探索的心路歷程 。 其中頗涉儒學、佛學及基督教義的比較和析述...   zh            zh\n",
       "1546   \"人性\"问题直接关系到人类如何有效地增强自身素质、筑牢道德底线、维护社会文明进步、以确保人类...   zh            zh\n",
       "5925   《怪》开宗名义就梳理了中国历代小说中的志怪传统，既厘定了全书研究范畴，又点明了主要素材出处，...   zh            zh\n",
       "2855   Zweisprachiges Kinderbuch (ab 2 Jahren) Tim ka...   zh            de\n",
       "7273   本书是奉贤区古华中学贤文化校本教材。本书遵循以人为本的核心理念，充分利用奉贤区\"贤文化\"读本...   zh            zh\n",
       "7274   《青春练习曲：新中高级中学学子风采集》通过赤、橙、黄、绿、青、蓝、紫等七种不同的色彩，勾画出...   zh            zh\n",
       "257    作者从一个教育工作者的立场出发，回顾自己三十多年来在教育教学、学校管理、教育科研等方面的探索...   zh            zh\n",
       "340    本书为著名特级教师、浙江省绍兴市金近小学校长何夏寿的教育叙事集，以文学的笔法讲叙了自己经历的...   zh            zh\n",
       "15610  本书稿是关于对高中学生创新素养培养的理论与实践研究的专著。上海基础教育的转型发展，需要在学生...   zh            zh\n",
       "6655   小說分為四部曲：《叛教者》《獻身者》《跟隨者》《擘餅者》。前三部的故事彼此分離又相互關聯。情...   zh            zh\n",
       "6341   本书从中医经络角度以及禅修角度探究养生太极拳的原理，使习修者实际体验太极拳养生的用处，从而达...   zh            zh\n",
       "10217  《男篮女舞》是复旦中学体育组老师所汇编的一本校本教材。主要体现学校体育男生以篮球为主，女生以...   zh            zh\n",
       "1496                                              1963 \"   zh       unknown\n",
       "8649   《國鍵文集》主要輯錄潘國鍵博士六十歲前在香港《華僑日報》、《明報》及加拿大《時代周報》、《明...   zh            zh\n",
       "12295  《國鍵文集》主要輯錄潘國鍵博士六十歲前在香港《華僑日報》、《明報》及加拿大《時代周報》、《明...   zh            zh\n",
       "12296                                               內容簡介   zh            zh\n",
       "13404                                           成为你，改变世界   zh            zh\n",
       "5803   人是需要表达的动物，所以人发明了各种形式的表达方式，如文学、音乐、绘画等等。而语言 - 或者...   zh            zh\n",
       "6768   它将为你呈现如何创造一个对你有效的世界。有多少人都像\"土拨鼠日\"那样过自己的一生----日复...   zh            zh\n",
       "13537  《学校教育的历史使命》由浦东新区光明中学校长刘玉华撰写的一本关于在新教育理念下结合各校的特色...   zh            zh\n",
       "4744   小說分為四部曲 《叛教者》《獻身者》《跟隨者》《擘餅者》。前三部的故事彼此分離又相互關聯。情...   zh            zh\n",
       "12804  《品读中国茶：一杯茶里那一串热闹和门道》按国际读者视角，从历史、植物学、健康、分类标准、加工...   zh            zh\n",
       "2937   在各种艺术品投资活动如火如荼的当下，收藏市场却良莠不齐、鱼龙混杂。为此，北京工艺美术学会组织...   zh            zh\n",
       "2938   《投资收藏系列：名贵珠宝鉴赏与收藏》主要介绍名贵珠宝如钻石、红蓝宝石、祖母绿、金绿宝石、海蓝...   zh            zh\n",
       "1935   该图书为旅日书画篆刻鉴赏家邹涛先生多年累积的文玩类书稿，内容包含笔、墨、纸、砚等各类文房雅玩...   zh            zh\n",
       "8914   . . . 二十多年前，一组来自几个不同世界的个体，集结在我们太阳系接近地球的一个隐蔽地点，...   zh            zh\n",
       "10937  杭州市钱江苑幼儿园在全面实施《国家中长期教育改革和发展规划纲要》的大背景下，对幼儿思维游戏设...   zh            zh\n",
       "17008  西蒙-米勒薩斯是一名成功的领導,她走遍全球,展示如何从喜悦的空间经商。超 过二十年来,她一直...   zh            zh\n",
       "4668   《一个人的阳台》是作者2009年到2019年旅居美国的随笔集，内容丰富多元，主题围绕着人的成...   zh            zh\n",
       "9112   纳甲筮法是目前流传最广、最实用的一种卜筮方法。清初卜筮名家王洪绪先生所撰《卜筮正宗》，乃纳甲...   zh            zh"
      ]
     },
     "execution_count": 18,
     "metadata": {},
     "output_type": "execute_result"
    }
   ],
   "source": [
    "analysis_df[(analysis_df.lang=='zh') & (~analysis_df.detected_lang.isin({'zh-cn', 'en'}))][['description', 'lang', 'detected_lang']].compute()"
   ]
  },
  {
   "cell_type": "markdown",
   "metadata": {
    "Collapsed": "false"
   },
   "source": [
    "These are the supported languages for which we have no trustworthy data. They'll be dropped from the dataset."
   ]
  },
  {
   "cell_type": "code",
   "execution_count": 19,
   "metadata": {
    "Collapsed": "false"
   },
   "outputs": [
    {
     "data": {
      "text/plain": [
       "{'ko', 'th', 'zh-tw'}"
      ]
     },
     "execution_count": 19,
     "metadata": {},
     "output_type": "execute_result"
    }
   ],
   "source": [
    "dropped_supported_languages = SUPPORTED_LANGUAGES.difference(languages[languages.lang_match].lang.unique())\n",
    "dropped_supported_languages"
   ]
  },
  {
   "cell_type": "markdown",
   "metadata": {
    "Collapsed": "false"
   },
   "source": [
    "Now let's look at the languages where we have a mismatch between the labeled language and the detected language:"
   ]
  },
  {
   "cell_type": "code",
   "execution_count": 20,
   "metadata": {
    "Collapsed": "false"
   },
   "outputs": [],
   "source": [
    "def plot_mismatched_languages(languages, supported_languages=SUPPORTED_LANGUAGES):\n",
    "    import matplotlib.ticker as mtick\n",
    "    \n",
    "    temp = languages[~languages.lang_match].drop('lang_match', axis=1).groupby('lang').sum().join(languages.drop('lang_match', axis=1).groupby('lang').sum(), how='inner', rsuffix='_total')\n",
    "    temp['pct_non_match'] = temp.num_docs / temp.num_docs_total\n",
    "    temp = temp.loc[temp.index.isin(supported_languages)]\n",
    "    ax = temp.sort_values('pct_non_match').drop(['num_docs_total', 'num_docs'], axis=1).plot.bar(figsize=(20,5))\n",
    "    ax.set_title(\"Fraction of documents where detected and labeled language don't match\", fontdict={'fontsize': 16})\n",
    "    ax.set_xlabel('language')\n",
    "    ax.set_ylabel('fraction')\n",
    "    for tick in ax.xaxis.get_major_ticks():\n",
    "        tick.label.set_fontsize(14)\n",
    "    ax.yaxis.set_major_formatter(mtick.PercentFormatter(1))"
   ]
  },
  {
   "cell_type": "code",
   "execution_count": 21,
   "metadata": {
    "Collapsed": "false"
   },
   "outputs": [
    {
     "data": {
      "image/png": "[encoded data removed]",
      "text/plain": [
       "<Figure size 1440x360 with 1 Axes>"
      ]
     },
     "metadata": {},
     "output_type": "display_data"
    }
   ],
   "source": [
    "plot_mismatched_languages(languages);"
   ]
  },
  {
   "cell_type": "markdown",
   "metadata": {},
   "source": [
    "We can see that a number of languages (Japanese, Russian, Arabic, Korean, Thai and Chinese) have most of their data mismatched. From some text inspection, we found that\n",
    "- The language label is for the book itself, not the description. And even then, it's often applied to bilingual books, such as dictionaries.\n",
    "- The language detection library is having problems with Russian, maybe because the text is in latin characters, not cyrillic. It detected several other languages for results that could well be Russian with latin characters - and it only seems correct when it detects english.\n",
    "- The detector library does not return 'zh' for Chinese - it returns 'zh-cn'.\n",
    "- The chinese text detected as 'ko' is actually chinese. All other text with `lang=zh` and `detected_lang` different is not really chinese.\n",
    "- For all other languages, most detected languages are correct, save for a small number of mistakes.\n",
    "\n",
    "Let's also see how the description distribution works in terms of length of characters and words. Note that, **due to the predominance of english, the y axis is log-scaled**."
   ]
  },
  {
   "cell_type": "code",
   "execution_count": 22,
   "metadata": {
    "Collapsed": "false"
   },
   "outputs": [],
   "source": [
    "def plot_ndocs(df, column, ax, supported_languages=SUPPORTED_LANGUAGES):\n",
    "    _ = df[df[column].isin(supported_languages)].groupby(column).agg({'num_docs': np.sum}).sort_values('num_docs', ascending=False).plot.bar(ax=ax)\n",
    "    _ = ax.set_yscale('log')\n",
    "    _ = ax.set_title(f'Based on {column}', fontdict={'fontsize': 16})\n",
    "    for tick in ax.xaxis.get_major_ticks():\n",
    "        tick.label.set_fontsize(14)\n",
    "\n",
    "def compare_language_info(languages, figsize=(20, 10)):\n",
    "    figure, ax = plt.subplots(1, 2, figsize=figsize)\n",
    "    plot_ndocs(languages, 'lang', ax[0])\n",
    "    plot_ndocs(languages, 'detected_lang', ax[1]);\n",
    "    figure.suptitle('# of Documents per Language\\n(for supported languages)', fontsize=18)\n",
    "    return(figure)"
   ]
  },
  {
   "cell_type": "code",
   "execution_count": 23,
   "metadata": {
    "Collapsed": "false"
   },
   "outputs": [
    {
     "data": {
      "image/png": "[encoded data removed]",
      "text/plain": [
       "<Figure size 1440x720 with 2 Axes>"
      ]
     },
     "metadata": {},
     "output_type": "display_data"
    }
   ],
   "source": [
    "fig = compare_language_info(languages, (20, 10));"
   ]
  },
  {
   "cell_type": "code",
   "execution_count": 24,
   "metadata": {
    "Collapsed": "false"
   },
   "outputs": [],
   "source": [
    "def descr_hist(df, length_col, figsize=(20, 10)):\n",
    "    fig = plt.figure(figsize=(20, 10))\n",
    "    hists = sns.FacetGrid(df[['detected_lang', length_col]].compute(), col='detected_lang', col_wrap=5, sharex=False, sharey=False)\n",
    "    _ = hists.map(sns.distplot, length_col, kde=False)\n",
    "    return fig"
   ]
  },
  {
   "cell_type": "code",
   "execution_count": 25,
   "metadata": {
    "Collapsed": "false"
   },
   "outputs": [
    {
     "data": {
      "text/plain": [
       "<Figure size 1440x720 with 0 Axes>"
      ]
     },
     "metadata": {},
     "output_type": "display_data"
    },
    {
     "data": {
      "image/png": "[encoded data removed]",
      "text/plain": [
       "<Figure size 1080x648 with 13 Axes>"
      ]
     },
     "metadata": {},
     "output_type": "display_data"
    }
   ],
   "source": [
    "fig = descr_hist(analysis_df[analysis_df.detected_lang.isin(SUPPORTED_LANGUAGES)], 'descr_len_words')"
   ]
  },
  {
   "cell_type": "code",
   "execution_count": 26,
   "metadata": {},
   "outputs": [
    {
     "data": {
      "text/plain": [
       "<Figure size 1440x720 with 0 Axes>"
      ]
     },
     "metadata": {},
     "output_type": "display_data"
    },
    {
     "data": {
      "image/png": "[encoded data removed]",
      "text/plain": [
       "<Figure size 1080x648 with 13 Axes>"
      ]
     },
     "metadata": {},
     "output_type": "display_data"
    }
   ],
   "source": [
    "plot_df = analysis_df\n",
    "plot_df['descr_len'] = plot_df['description'].str.len()\n",
    "fig = descr_hist(plot_df[plot_df.detected_lang.isin(SUPPORTED_LANGUAGES)], 'descr_len')"
   ]
  },
  {
   "cell_type": "markdown",
   "metadata": {},
   "source": [
    "### Final Cleansing Transformation"
   ]
  },
  {
   "cell_type": "markdown",
   "metadata": {
    "Collapsed": "false"
   },
   "source": [
    "Based on the analysis above, we'll do the following adaptations to the dataset:\n",
    "- Accept the informed language of russian unless the detected language was english - it's the only detection that seems consistent for russian in latin characters.\n",
    "- Transform detected 'zh-cn' to 'zh'\n",
    "- Drop 'ja', 'ar', 'ko', 'th' from our dataset.\n",
    "- Drop all cases where language detect mismatches labeled language and detected language is English - detected language is usually correct, but there's already too much english on the dataset.\n",
    "- Drop all cases where detected language is not in the MUSE understood languages\n",
    "- Drop all cases where length of description is less than 7 words (unless it's Chinese, where our split by spaces does not work).\n",
    "- Use detected language as the actual description language.\n",
    "\n",
    "We'll regenerate the dataset to keep the history of improvements made."
   ]
  },
  {
   "cell_type": "code",
   "execution_count": 27,
   "metadata": {
    "Collapsed": "false"
   },
   "outputs": [],
   "source": [
    "def map_lang(series):\n",
    "    if (series.lang == 'ru' and series.detected_lang != 'en'):\n",
    "        series.detected_lang = 'ru'\n",
    "    elif series.detected_lang in('zh-cn', 'ko', 'zh-tw'):\n",
    "        series.detected_lang = 'zh'\n",
    "    return series\n",
    "\n",
    "def fix_det_language(df, supported_languages):\n",
    "    intermediate = df.apply(map_lang, axis=1)\n",
    "    intermediate = intermediate[ ~intermediate.lang.isin({'ja', 'ar', 'ko', 'th'})]\n",
    "    intermediate = intermediate[intermediate.detected_lang.isin(supported_languages)]\n",
    "    intermediate = intermediate[((intermediate.detected_lang != 'en') | (intermediate.detected_lang == intermediate.lang))]\n",
    "    intermediate = intermediate[(intermediate.descr_len_words >= 8) | (intermediate.detected_lang == 'zh')]\n",
    "    return(intermediate)\n",
    "\n",
    "def gen_cleaned_data_v2(source_data_dir: str, dest_data_dir: str, drop_languages, supported_languages: List=SUPPORTED_LANGUAGES, block_size: Union[int, str]='32MB') -> dd.DataFrame: \n",
    "    dataset = dd.read_csv(\n",
    "        f'{source_data_dir}/dataset.csv', header=0, \n",
    "        usecols=['description', 'authors', 'categories', 'lang', 'title'],\n",
    "        blocksize=block_size,\n",
    "        converters = {\n",
    "            'authors': conv_str_int_list,\n",
    "            'categories': conv_str_int_list,\n",
    "            'description': shorten_description\n",
    "        }\n",
    "    ).repartition(partition_size=block_size)\n",
    "    dataset = dataset[~ dataset.description.isna()]\n",
    "    dataset['n_authors'] = dataset.authors.apply(len, meta=pd.Series(name='n_authors', dtype='i4'))\n",
    "    dataset['n_categories'] = dataset.categories.apply(len, meta=pd.Series(name='n_categories', dtype='i4'))\n",
    "    dataset['descr_len_words'] = dataset.map_partitions(lambda df: df.description.apply(lambda t: len(t.split(' '))), meta=pd.Series(name='descr_len_words', dtype='i4'))\n",
    "    dataset['detected_lang'] = dataset.map_partitions(detect_df_lang, meta=pd.Series(name='detected_lang', dtype='U'))\n",
    "    dataset = dataset[dataset.lang.isin(supported_languages) | dataset.detected_lang.isin(supported_languages)]\n",
    "    dataset = dataset[~dataset.lang.isin(drop_languages)]  # Dropping languages for which we don't have any trustworthy examples\n",
    "    dataset = dataset.map_partitions(fix_det_language, meta=dataset, supported_languages=supported_languages)\n",
    "    shutil.rmtree(dest_data_dir, ignore_errors=True)\n",
    "    dataset.to_csv(f'{dest_data_dir}/dataset-*.csv', compute=True, index=False, quoting=csv.QUOTE_NONNUMERIC)"
   ]
  },
  {
   "cell_type": "code",
   "execution_count": 28,
   "metadata": {},
   "outputs": [
    {
     "name": "stdout",
     "output_type": "stream",
     "text": [
      "CPU times: user 18.6 s, sys: 2.13 s, total: 20.7 s\n",
      "Wall time: 6min 13s\n"
     ]
    }
   ],
   "source": [
    "%%time \n",
    "dropped_supported_languages = dropped_supported_languages.union({'ja', 'ar', 'ko', 'th'})\n",
    "gen_cleaned_data_v2(raw_data_dir, cleaned_data_dir, dropped_supported_languages)"
   ]
  },
  {
   "cell_type": "markdown",
   "metadata": {},
   "source": [
    "## Cleansed Dataset Analysis"
   ]
  },
  {
   "cell_type": "markdown",
   "metadata": {},
   "source": [
    "First, let's load the final cleansed dataset."
   ]
  },
  {
   "cell_type": "code",
   "execution_count": 29,
   "metadata": {
    "Collapsed": "false"
   },
   "outputs": [],
   "source": [
    "final_df = dd.read_csv(\n",
    "   f'{cleaned_data_dir}/dataset-*.csv', header=0,\n",
    "   converters = {\n",
    "       'authors': conv_str_int_list,\n",
    "       'categories': conv_str_int_list\n",
    "   }\n",
    ")"
   ]
  },
  {
   "cell_type": "code",
   "execution_count": 30,
   "metadata": {},
   "outputs": [
    {
     "data": {
      "text/html": [
       "<div>\n",
       "<style scoped>\n",
       "    .dataframe tbody tr th:only-of-type {\n",
       "        vertical-align: middle;\n",
       "    }\n",
       "\n",
       "    .dataframe tbody tr th {\n",
       "        vertical-align: top;\n",
       "    }\n",
       "\n",
       "    .dataframe thead th {\n",
       "        text-align: right;\n",
       "    }\n",
       "</style>\n",
       "<table border=\"1\" class=\"dataframe\">\n",
       "  <thead>\n",
       "    <tr style=\"text-align: right;\">\n",
       "      <th></th>\n",
       "      <th>authors</th>\n",
       "      <th>categories</th>\n",
       "      <th>description</th>\n",
       "      <th>lang</th>\n",
       "      <th>title</th>\n",
       "      <th>n_authors</th>\n",
       "      <th>n_categories</th>\n",
       "      <th>descr_len_words</th>\n",
       "      <th>detected_lang</th>\n",
       "    </tr>\n",
       "  </thead>\n",
       "  <tbody>\n",
       "    <tr>\n",
       "      <th>0</th>\n",
       "      <td>[3]</td>\n",
       "      <td>[360, 2632]</td>\n",
       "      <td>A fake marriage is the last thing he wants . ....</td>\n",
       "      <td>en</td>\n",
       "      <td>The Mercenary : Order of the Broken Blade</td>\n",
       "      <td>1</td>\n",
       "      <td>2</td>\n",
       "      <td>17</td>\n",
       "      <td>en</td>\n",
       "    </tr>\n",
       "    <tr>\n",
       "      <th>1</th>\n",
       "      <td>[4]</td>\n",
       "      <td>[1703, 2771, 2818, 3097]</td>\n",
       "      <td>Once the dust has settled, you'll need to know...</td>\n",
       "      <td>en</td>\n",
       "      <td>100 Skills You'll Need for the End of the Worl...</td>\n",
       "      <td>1</td>\n",
       "      <td>4</td>\n",
       "      <td>97</td>\n",
       "      <td>en</td>\n",
       "    </tr>\n",
       "    <tr>\n",
       "      <th>2</th>\n",
       "      <td>[5]</td>\n",
       "      <td>[819, 3364, 1853, 2977]</td>\n",
       "      <td>The Daily Mail and the Spectator Book of the Y...</td>\n",
       "      <td>en</td>\n",
       "      <td>How to Land a Plane</td>\n",
       "      <td>1</td>\n",
       "      <td>4</td>\n",
       "      <td>11</td>\n",
       "      <td>en</td>\n",
       "    </tr>\n",
       "    <tr>\n",
       "      <th>3</th>\n",
       "      <td>[6]</td>\n",
       "      <td>[1694, 1703, 2818]</td>\n",
       "      <td>Easy, do-able, down to earth ideas and suggest...</td>\n",
       "      <td>en</td>\n",
       "      <td>The Sustainable(ish) Living Guide : Everything...</td>\n",
       "      <td>1</td>\n",
       "      <td>3</td>\n",
       "      <td>15</td>\n",
       "      <td>en</td>\n",
       "    </tr>\n",
       "    <tr>\n",
       "      <th>4</th>\n",
       "      <td>[7]</td>\n",
       "      <td>[1843, 2967, 2969]</td>\n",
       "      <td>Mini celebrates 60 amazing years of this iconi...</td>\n",
       "      <td>en</td>\n",
       "      <td>Mini : 60 Years</td>\n",
       "      <td>1</td>\n",
       "      <td>3</td>\n",
       "      <td>20</td>\n",
       "      <td>en</td>\n",
       "    </tr>\n",
       "  </tbody>\n",
       "</table>\n",
       "</div>"
      ],
      "text/plain": [
       "  authors                categories  \\\n",
       "0     [3]               [360, 2632]   \n",
       "1     [4]  [1703, 2771, 2818, 3097]   \n",
       "2     [5]   [819, 3364, 1853, 2977]   \n",
       "3     [6]        [1694, 1703, 2818]   \n",
       "4     [7]        [1843, 2967, 2969]   \n",
       "\n",
       "                                         description lang  \\\n",
       "0  A fake marriage is the last thing he wants . ....   en   \n",
       "1  Once the dust has settled, you'll need to know...   en   \n",
       "2  The Daily Mail and the Spectator Book of the Y...   en   \n",
       "3  Easy, do-able, down to earth ideas and suggest...   en   \n",
       "4  Mini celebrates 60 amazing years of this iconi...   en   \n",
       "\n",
       "                                               title  n_authors  n_categories  \\\n",
       "0          The Mercenary : Order of the Broken Blade          1             2   \n",
       "1  100 Skills You'll Need for the End of the Worl...          1             4   \n",
       "2                                How to Land a Plane          1             4   \n",
       "3  The Sustainable(ish) Living Guide : Everything...          1             3   \n",
       "4                                    Mini : 60 Years          1             3   \n",
       "\n",
       "   descr_len_words detected_lang  \n",
       "0               17            en  \n",
       "1               97            en  \n",
       "2               11            en  \n",
       "3               15            en  \n",
       "4               20            en  "
      ]
     },
     "execution_count": 30,
     "metadata": {},
     "output_type": "execute_result"
    }
   ],
   "source": [
    "final_df.head()"
   ]
  },
  {
   "cell_type": "code",
   "execution_count": 31,
   "metadata": {
    "Collapsed": "false"
   },
   "outputs": [
    {
     "name": "stdout",
     "output_type": "stream",
     "text": [
      "The cleansed dataset has 1042730 rows and 9 columns.\n",
      "\n"
     ]
    }
   ],
   "source": [
    "rows, columns = (lambda x: (x[0].compute(), x[1]))(final_df.shape)\n",
    "print(f'The cleansed dataset has {rows} rows and {columns} columns.\\n')"
   ]
  },
  {
   "cell_type": "markdown",
   "metadata": {},
   "source": [
    "Let's look at the distribution of documents per language for the final dataset."
   ]
  },
  {
   "cell_type": "code",
   "execution_count": 32,
   "metadata": {
    "Collapsed": "false"
   },
   "outputs": [],
   "source": [
    "languages = final_df.groupby(['detected_lang', 'lang']).size().reset_index().fillna(0).compute()\n",
    "languages.columns = ['detected_lang', 'lang', 'num_docs']\n",
    "languages['lang_match'] = languages.lang == languages.detected_lang"
   ]
  },
  {
   "cell_type": "code",
   "execution_count": 33,
   "metadata": {
    "Collapsed": "false"
   },
   "outputs": [
    {
     "data": {
      "image/png": "[encoded data removed]",
      "text/plain": [
       "<Figure size 1440x720 with 2 Axes>"
      ]
     },
     "metadata": {},
     "output_type": "display_data"
    }
   ],
   "source": [
    "fig = compare_language_info(languages, (20, 10));"
   ]
  },
  {
   "cell_type": "markdown",
   "metadata": {
    "Collapsed": "false"
   },
   "source": [
    "After cleansing the data, the labeled and detected languages look similar enough to proceed. The dominance of english, while expected, is a problem we'd normally have to tackle on a real-life situation. For the purposes of showing scaling, we'll keep all the data in.\n",
    "\n",
    "Next, we'll check the description sizes. Note that words might not be a good measure for languages like chinese, where space usage is not so consistent and characters are often words by themselves."
   ]
  },
  {
   "cell_type": "code",
   "execution_count": 34,
   "metadata": {},
   "outputs": [
    {
     "data": {
      "text/plain": [
       "<Figure size 1440x720 with 0 Axes>"
      ]
     },
     "metadata": {},
     "output_type": "display_data"
    },
    {
     "data": {
      "image/png": "[encoded data removed]",
      "text/plain": [
       "<Figure size 1080x648 with 11 Axes>"
      ]
     },
     "metadata": {},
     "output_type": "display_data"
    }
   ],
   "source": [
    "fig = descr_hist(final_df, 'descr_len_words')"
   ]
  },
  {
   "cell_type": "code",
   "execution_count": 35,
   "metadata": {},
   "outputs": [
    {
     "data": {
      "text/plain": [
       "<Figure size 1440x720 with 0 Axes>"
      ]
     },
     "metadata": {},
     "output_type": "display_data"
    },
    {
     "data": {
      "image/png": "[encoded data removed]",
      "text/plain": [
       "<Figure size 1080x648 with 11 Axes>"
      ]
     },
     "metadata": {},
     "output_type": "display_data"
    }
   ],
   "source": [
    "plot_df = final_df\n",
    "plot_df['descr_len'] = plot_df['description'].str.len()\n",
    "fig = descr_hist(plot_df, 'descr_len')"
   ]
  }
 ],
 "metadata": {
  "kernelspec": {
   "display_name": "conda_python3",
   "language": "python",
   "name": "conda_python3"
  },
  "language_info": {
   "codemirror_mode": {
    "name": "ipython",
    "version": 3
   },
   "file_extension": ".py",
   "mimetype": "text/x-python",
   "name": "python",
   "nbconvert_exporter": "python",
   "pygments_lexer": "ipython3",
   "version": "3.6.5"
  }
 },
 "nbformat": 4,
 "nbformat_minor": 4
}
