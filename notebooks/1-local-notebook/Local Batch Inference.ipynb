{
 "cells": [
  {
   "cell_type": "markdown",
   "metadata": {
    "Collapsed": "false"
   },
   "source": [
    "# Local generation of Embeddings"
   ]
  },
  {
   "cell_type": "markdown",
   "metadata": {},
   "source": [
    "## Setup"
   ]
  },
  {
   "cell_type": "code",
   "execution_count": 1,
   "metadata": {
    "Collapsed": "false"
   },
   "outputs": [
    {
     "name": "stdout",
     "output_type": "stream",
     "text": [
      "/home/ec2-user/SageMaker/MUSE-sagemaker-development/notebooks/local-notebook\n",
      "Requirement already up-to-date: pip in /home/ec2-user/anaconda3/envs/tensorflow_p36/lib/python3.6/site-packages (20.1.1)\n",
      "Requirement already satisfied: tensorflow-gpu>=2.2.0 in /home/ec2-user/anaconda3/envs/tensorflow_p36/lib/python3.6/site-packages (from -r ../../requirements.txt (line 1)) (2.2.0)\n",
      "Requirement already satisfied: six>=1.12.0 in /home/ec2-user/anaconda3/envs/tensorflow_p36/lib/python3.6/site-packages (from -r ../../requirements.txt (line 2)) (1.15.0)\n",
      "Requirement already satisfied: tensorflow-hub>=0.8.0 in /home/ec2-user/anaconda3/envs/tensorflow_p36/lib/python3.6/site-packages (from -r ../../requirements.txt (line 3)) (0.8.0)\n",
      "Requirement already satisfied: tensorflow-text==2.2.0 in /home/ec2-user/anaconda3/envs/tensorflow_p36/lib/python3.6/site-packages (from -r ../../requirements.txt (line 4)) (2.2.0)\n",
      "Requirement already satisfied: statsmodels>=0.9.0 in /home/ec2-user/anaconda3/envs/tensorflow_p36/lib/python3.6/site-packages (from -r ../../requirements.txt (line 5)) (0.9.0)\n",
      "Requirement already satisfied: seaborn>=0.10.1 in /home/ec2-user/anaconda3/envs/tensorflow_p36/lib/python3.6/site-packages (from -r ../../requirements.txt (line 6)) (0.10.1)\n",
      "Requirement already satisfied: dask[complete]>=2.17.2 in /home/ec2-user/anaconda3/envs/tensorflow_p36/lib/python3.6/site-packages (from -r ../../requirements.txt (line 7)) (2.20.0)\n",
      "Requirement already satisfied: langdetect>=1.0.8 in /home/ec2-user/anaconda3/envs/tensorflow_p36/lib/python3.6/site-packages (from -r ../../requirements.txt (line 8)) (1.0.8)\n",
      "Requirement already satisfied: ezsmdeploy in /home/ec2-user/anaconda3/envs/tensorflow_p36/lib/python3.6/site-packages (from -r ../../requirements.txt (line 9)) (0.3.0)\n",
      "Requirement already satisfied: simpleneighbors[annoy] in /home/ec2-user/anaconda3/envs/tensorflow_p36/lib/python3.6/site-packages (from -r ../../requirements.txt (line 10)) (0.1.0)\n",
      "Requirement already satisfied: tqdm==4.47.0 in /home/ec2-user/anaconda3/envs/tensorflow_p36/lib/python3.6/site-packages (from -r ../../requirements.txt (line 11)) (4.47.0)\n",
      "Requirement already satisfied: bokeh==2.1.1 in /home/ec2-user/anaconda3/envs/tensorflow_p36/lib/python3.6/site-packages (from -r ../../requirements.txt (line 12)) (2.1.1)\n",
      "Requirement already satisfied: jupyter-bokeh==2.0.2 in /home/ec2-user/anaconda3/envs/tensorflow_p36/lib/python3.6/site-packages (from -r ../../requirements.txt (line 13)) (2.0.2)\n",
      "Requirement already satisfied: ipywidgets==7.5.1 in /home/ec2-user/anaconda3/envs/tensorflow_p36/lib/python3.6/site-packages (from -r ../../requirements.txt (line 14)) (7.5.1)\n",
      "Requirement already satisfied: cloudpickle==1.5.0 in /home/ec2-user/anaconda3/envs/tensorflow_p36/lib/python3.6/site-packages (from -r ../../requirements.txt (line 15)) (1.5.0)\n",
      "Requirement already satisfied: google-pasta>=0.1.8 in /home/ec2-user/anaconda3/envs/tensorflow_p36/lib/python3.6/site-packages (from tensorflow-gpu>=2.2.0->-r ../../requirements.txt (line 1)) (0.2.0)\n",
      "Requirement already satisfied: absl-py>=0.7.0 in /home/ec2-user/anaconda3/envs/tensorflow_p36/lib/python3.6/site-packages (from tensorflow-gpu>=2.2.0->-r ../../requirements.txt (line 1)) (0.9.0)\n",
      "Requirement already satisfied: protobuf>=3.8.0 in /home/ec2-user/anaconda3/envs/tensorflow_p36/lib/python3.6/site-packages (from tensorflow-gpu>=2.2.0->-r ../../requirements.txt (line 1)) (3.12.2)\n",
      "Requirement already satisfied: wheel>=0.26; python_version >= \"3\" in /home/ec2-user/anaconda3/envs/tensorflow_p36/lib/python3.6/site-packages (from tensorflow-gpu>=2.2.0->-r ../../requirements.txt (line 1)) (0.34.2)\n",
      "Requirement already satisfied: tensorboard<2.3.0,>=2.2.0 in /home/ec2-user/anaconda3/envs/tensorflow_p36/lib/python3.6/site-packages (from tensorflow-gpu>=2.2.0->-r ../../requirements.txt (line 1)) (2.2.2)\n",
      "Requirement already satisfied: grpcio>=1.8.6 in /home/ec2-user/anaconda3/envs/tensorflow_p36/lib/python3.6/site-packages (from tensorflow-gpu>=2.2.0->-r ../../requirements.txt (line 1)) (1.30.0)\n",
      "Requirement already satisfied: gast==0.3.3 in /home/ec2-user/anaconda3/envs/tensorflow_p36/lib/python3.6/site-packages (from tensorflow-gpu>=2.2.0->-r ../../requirements.txt (line 1)) (0.3.3)\n",
      "Requirement already satisfied: scipy==1.4.1; python_version >= \"3\" in /home/ec2-user/anaconda3/envs/tensorflow_p36/lib/python3.6/site-packages (from tensorflow-gpu>=2.2.0->-r ../../requirements.txt (line 1)) (1.4.1)\n",
      "Requirement already satisfied: numpy<2.0,>=1.16.0 in /home/ec2-user/anaconda3/envs/tensorflow_p36/lib/python3.6/site-packages (from tensorflow-gpu>=2.2.0->-r ../../requirements.txt (line 1)) (1.19.0)\n",
      "Requirement already satisfied: tensorflow-estimator<2.3.0,>=2.2.0 in /home/ec2-user/anaconda3/envs/tensorflow_p36/lib/python3.6/site-packages (from tensorflow-gpu>=2.2.0->-r ../../requirements.txt (line 1)) (2.2.0)\n",
      "Requirement already satisfied: h5py<2.11.0,>=2.10.0 in /home/ec2-user/anaconda3/envs/tensorflow_p36/lib/python3.6/site-packages (from tensorflow-gpu>=2.2.0->-r ../../requirements.txt (line 1)) (2.10.0)\n",
      "Requirement already satisfied: astunparse==1.6.3 in /home/ec2-user/anaconda3/envs/tensorflow_p36/lib/python3.6/site-packages (from tensorflow-gpu>=2.2.0->-r ../../requirements.txt (line 1)) (1.6.3)\n",
      "Requirement already satisfied: opt-einsum>=2.3.2 in /home/ec2-user/anaconda3/envs/tensorflow_p36/lib/python3.6/site-packages (from tensorflow-gpu>=2.2.0->-r ../../requirements.txt (line 1)) (3.2.1)\n",
      "Requirement already satisfied: wrapt>=1.11.1 in /home/ec2-user/anaconda3/envs/tensorflow_p36/lib/python3.6/site-packages (from tensorflow-gpu>=2.2.0->-r ../../requirements.txt (line 1)) (1.12.1)\n",
      "Requirement already satisfied: keras-preprocessing>=1.1.0 in /home/ec2-user/anaconda3/envs/tensorflow_p36/lib/python3.6/site-packages (from tensorflow-gpu>=2.2.0->-r ../../requirements.txt (line 1)) (1.1.2)\n",
      "Requirement already satisfied: termcolor>=1.1.0 in /home/ec2-user/anaconda3/envs/tensorflow_p36/lib/python3.6/site-packages (from tensorflow-gpu>=2.2.0->-r ../../requirements.txt (line 1)) (1.1.0)\n",
      "Requirement already satisfied: tensorflow<2.3,>=2.2.0 in /home/ec2-user/anaconda3/envs/tensorflow_p36/lib/python3.6/site-packages (from tensorflow-text==2.2.0->-r ../../requirements.txt (line 4)) (2.2.0)\n",
      "Requirement already satisfied: matplotlib>=2.1.2 in /home/ec2-user/anaconda3/envs/tensorflow_p36/lib/python3.6/site-packages (from seaborn>=0.10.1->-r ../../requirements.txt (line 6)) (3.0.3)\n",
      "Requirement already satisfied: pandas>=0.22.0 in /home/ec2-user/anaconda3/envs/tensorflow_p36/lib/python3.6/site-packages (from seaborn>=0.10.1->-r ../../requirements.txt (line 6)) (0.24.2)\n",
      "Requirement already satisfied: pyyaml in /home/ec2-user/anaconda3/envs/tensorflow_p36/lib/python3.6/site-packages (from dask[complete]>=2.17.2->-r ../../requirements.txt (line 7)) (5.3.1)\n",
      "Requirement already satisfied: partd>=0.3.10; extra == \"complete\" in /home/ec2-user/anaconda3/envs/tensorflow_p36/lib/python3.6/site-packages (from dask[complete]>=2.17.2->-r ../../requirements.txt (line 7)) (1.1.0)\n",
      "Requirement already satisfied: toolz>=0.8.2; extra == \"complete\" in /home/ec2-user/anaconda3/envs/tensorflow_p36/lib/python3.6/site-packages (from dask[complete]>=2.17.2->-r ../../requirements.txt (line 7)) (0.9.0)\n",
      "Requirement already satisfied: fsspec>=0.6.0; extra == \"complete\" in /home/ec2-user/anaconda3/envs/tensorflow_p36/lib/python3.6/site-packages (from dask[complete]>=2.17.2->-r ../../requirements.txt (line 7)) (0.7.4)\n",
      "Requirement already satisfied: distributed>=2.0; extra == \"complete\" in /home/ec2-user/anaconda3/envs/tensorflow_p36/lib/python3.6/site-packages (from dask[complete]>=2.17.2->-r ../../requirements.txt (line 7)) (2.20.0)\n",
      "Requirement already satisfied: shortuuid==1.0.1 in /home/ec2-user/anaconda3/envs/tensorflow_p36/lib/python3.6/site-packages (from ezsmdeploy->-r ../../requirements.txt (line 9)) (1.0.1)\n",
      "Requirement already satisfied: yaspin==0.16.0 in /home/ec2-user/anaconda3/envs/tensorflow_p36/lib/python3.6/site-packages (from ezsmdeploy->-r ../../requirements.txt (line 9)) (0.16.0)\n",
      "Requirement already satisfied: sagemaker==1.58.2 in /home/ec2-user/anaconda3/envs/tensorflow_p36/lib/python3.6/site-packages (from ezsmdeploy->-r ../../requirements.txt (line 9)) (1.58.2)\n",
      "Requirement already satisfied: annoy>=1.16.0; extra == \"annoy\" in /home/ec2-user/anaconda3/envs/tensorflow_p36/lib/python3.6/site-packages (from simpleneighbors[annoy]->-r ../../requirements.txt (line 10)) (1.16.3)\n",
      "Requirement already satisfied: Jinja2>=2.7 in /home/ec2-user/anaconda3/envs/tensorflow_p36/lib/python3.6/site-packages (from bokeh==2.1.1->-r ../../requirements.txt (line 12)) (2.10)\n",
      "Requirement already satisfied: packaging>=16.8 in /home/ec2-user/anaconda3/envs/tensorflow_p36/lib/python3.6/site-packages (from bokeh==2.1.1->-r ../../requirements.txt (line 12)) (20.1)\n",
      "Requirement already satisfied: python-dateutil>=2.1 in /home/ec2-user/anaconda3/envs/tensorflow_p36/lib/python3.6/site-packages (from bokeh==2.1.1->-r ../../requirements.txt (line 12)) (2.7.3)\n",
      "Requirement already satisfied: tornado>=5.1 in /home/ec2-user/anaconda3/envs/tensorflow_p36/lib/python3.6/site-packages (from bokeh==2.1.1->-r ../../requirements.txt (line 12)) (6.0.4)\n",
      "Requirement already satisfied: pillow>=4.0 in /home/ec2-user/anaconda3/envs/tensorflow_p36/lib/python3.6/site-packages (from bokeh==2.1.1->-r ../../requirements.txt (line 12)) (5.4.1)\n",
      "Requirement already satisfied: typing-extensions>=3.7.4 in /home/ec2-user/anaconda3/envs/tensorflow_p36/lib/python3.6/site-packages (from bokeh==2.1.1->-r ../../requirements.txt (line 12)) (3.7.4.2)\n",
      "Requirement already satisfied: widgetsnbextension~=3.5.0 in /home/ec2-user/anaconda3/envs/tensorflow_p36/lib/python3.6/site-packages (from ipywidgets==7.5.1->-r ../../requirements.txt (line 14)) (3.5.1)\n",
      "Requirement already satisfied: ipython>=4.0.0; python_version >= \"3.3\" in /home/ec2-user/anaconda3/envs/tensorflow_p36/lib/python3.6/site-packages (from ipywidgets==7.5.1->-r ../../requirements.txt (line 14)) (6.4.0)\n",
      "Requirement already satisfied: ipykernel>=4.5.1 in /home/ec2-user/anaconda3/envs/tensorflow_p36/lib/python3.6/site-packages (from ipywidgets==7.5.1->-r ../../requirements.txt (line 14)) (4.8.2)\n",
      "Requirement already satisfied: traitlets>=4.3.1 in /home/ec2-user/anaconda3/envs/tensorflow_p36/lib/python3.6/site-packages (from ipywidgets==7.5.1->-r ../../requirements.txt (line 14)) (4.3.2)\n",
      "Requirement already satisfied: nbformat>=4.2.0 in /home/ec2-user/anaconda3/envs/tensorflow_p36/lib/python3.6/site-packages (from ipywidgets==7.5.1->-r ../../requirements.txt (line 14)) (4.4.0)\n",
      "Requirement already satisfied: setuptools in /home/ec2-user/anaconda3/envs/tensorflow_p36/lib/python3.6/site-packages (from protobuf>=3.8.0->tensorflow-gpu>=2.2.0->-r ../../requirements.txt (line 1)) (49.1.0)\n",
      "Requirement already satisfied: google-auth-oauthlib<0.5,>=0.4.1 in /home/ec2-user/anaconda3/envs/tensorflow_p36/lib/python3.6/site-packages (from tensorboard<2.3.0,>=2.2.0->tensorflow-gpu>=2.2.0->-r ../../requirements.txt (line 1)) (0.4.1)\n",
      "Requirement already satisfied: werkzeug>=0.11.15 in /home/ec2-user/anaconda3/envs/tensorflow_p36/lib/python3.6/site-packages (from tensorboard<2.3.0,>=2.2.0->tensorflow-gpu>=2.2.0->-r ../../requirements.txt (line 1)) (1.0.1)\n",
      "Requirement already satisfied: tensorboard-plugin-wit>=1.6.0 in /home/ec2-user/anaconda3/envs/tensorflow_p36/lib/python3.6/site-packages (from tensorboard<2.3.0,>=2.2.0->tensorflow-gpu>=2.2.0->-r ../../requirements.txt (line 1)) (1.7.0)\n",
      "Requirement already satisfied: requests<3,>=2.21.0 in /home/ec2-user/anaconda3/envs/tensorflow_p36/lib/python3.6/site-packages (from tensorboard<2.3.0,>=2.2.0->tensorflow-gpu>=2.2.0->-r ../../requirements.txt (line 1)) (2.24.0)\n",
      "Requirement already satisfied: markdown>=2.6.8 in /home/ec2-user/anaconda3/envs/tensorflow_p36/lib/python3.6/site-packages (from tensorboard<2.3.0,>=2.2.0->tensorflow-gpu>=2.2.0->-r ../../requirements.txt (line 1)) (3.2.2)\n",
      "Requirement already satisfied: google-auth<2,>=1.6.3 in /home/ec2-user/anaconda3/envs/tensorflow_p36/lib/python3.6/site-packages (from tensorboard<2.3.0,>=2.2.0->tensorflow-gpu>=2.2.0->-r ../../requirements.txt (line 1)) (1.18.0)\n",
      "Requirement already satisfied: pyparsing!=2.0.4,!=2.1.2,!=2.1.6,>=2.0.1 in /home/ec2-user/anaconda3/envs/tensorflow_p36/lib/python3.6/site-packages (from matplotlib>=2.1.2->seaborn>=0.10.1->-r ../../requirements.txt (line 6)) (2.2.0)\n",
      "Requirement already satisfied: cycler>=0.10 in /home/ec2-user/anaconda3/envs/tensorflow_p36/lib/python3.6/site-packages (from matplotlib>=2.1.2->seaborn>=0.10.1->-r ../../requirements.txt (line 6)) (0.10.0)\n",
      "Requirement already satisfied: kiwisolver>=1.0.1 in /home/ec2-user/anaconda3/envs/tensorflow_p36/lib/python3.6/site-packages (from matplotlib>=2.1.2->seaborn>=0.10.1->-r ../../requirements.txt (line 6)) (1.0.1)\n",
      "Requirement already satisfied: pytz>=2011k in /home/ec2-user/anaconda3/envs/tensorflow_p36/lib/python3.6/site-packages (from pandas>=0.22.0->seaborn>=0.10.1->-r ../../requirements.txt (line 6)) (2018.4)\n",
      "Requirement already satisfied: locket in /home/ec2-user/anaconda3/envs/tensorflow_p36/lib/python3.6/site-packages (from partd>=0.3.10; extra == \"complete\"->dask[complete]>=2.17.2->-r ../../requirements.txt (line 7)) (0.2.0)\n",
      "Requirement already satisfied: tblib>=1.6.0 in /home/ec2-user/anaconda3/envs/tensorflow_p36/lib/python3.6/site-packages (from distributed>=2.0; extra == \"complete\"->dask[complete]>=2.17.2->-r ../../requirements.txt (line 7)) (1.6.0)\n",
      "Requirement already satisfied: zict>=0.1.3 in /home/ec2-user/anaconda3/envs/tensorflow_p36/lib/python3.6/site-packages (from distributed>=2.0; extra == \"complete\"->dask[complete]>=2.17.2->-r ../../requirements.txt (line 7)) (0.1.3)\n",
      "Requirement already satisfied: msgpack>=0.6.0 in /home/ec2-user/anaconda3/envs/tensorflow_p36/lib/python3.6/site-packages (from distributed>=2.0; extra == \"complete\"->dask[complete]>=2.17.2->-r ../../requirements.txt (line 7)) (0.6.0)\n",
      "Requirement already satisfied: click>=6.6 in /home/ec2-user/anaconda3/envs/tensorflow_p36/lib/python3.6/site-packages (from distributed>=2.0; extra == \"complete\"->dask[complete]>=2.17.2->-r ../../requirements.txt (line 7)) (6.7)\n",
      "Requirement already satisfied: contextvars; python_version < \"3.7\" in /home/ec2-user/anaconda3/envs/tensorflow_p36/lib/python3.6/site-packages (from distributed>=2.0; extra == \"complete\"->dask[complete]>=2.17.2->-r ../../requirements.txt (line 7)) (2.4)\n",
      "Requirement already satisfied: sortedcontainers!=2.0.0,!=2.0.1 in /home/ec2-user/anaconda3/envs/tensorflow_p36/lib/python3.6/site-packages (from distributed>=2.0; extra == \"complete\"->dask[complete]>=2.17.2->-r ../../requirements.txt (line 7)) (1.5.10)\n",
      "Requirement already satisfied: psutil>=5.0 in /home/ec2-user/anaconda3/envs/tensorflow_p36/lib/python3.6/site-packages (from distributed>=2.0; extra == \"complete\"->dask[complete]>=2.17.2->-r ../../requirements.txt (line 7)) (5.4.5)\n",
      "Requirement already satisfied: protobuf3-to-dict>=0.1.5 in /home/ec2-user/anaconda3/envs/tensorflow_p36/lib/python3.6/site-packages (from sagemaker==1.58.2->ezsmdeploy->-r ../../requirements.txt (line 9)) (0.1.5)\n",
      "Requirement already satisfied: smdebug-rulesconfig==0.1.2 in /home/ec2-user/anaconda3/envs/tensorflow_p36/lib/python3.6/site-packages (from sagemaker==1.58.2->ezsmdeploy->-r ../../requirements.txt (line 9)) (0.1.2)\n",
      "Requirement already satisfied: boto3>=1.13.6 in /home/ec2-user/anaconda3/envs/tensorflow_p36/lib/python3.6/site-packages (from sagemaker==1.58.2->ezsmdeploy->-r ../../requirements.txt (line 9)) (1.14.16)\n",
      "Requirement already satisfied: importlib-metadata>=1.4.0 in /home/ec2-user/anaconda3/envs/tensorflow_p36/lib/python3.6/site-packages (from sagemaker==1.58.2->ezsmdeploy->-r ../../requirements.txt (line 9)) (1.7.0)\n",
      "Requirement already satisfied: MarkupSafe>=0.23 in /home/ec2-user/anaconda3/envs/tensorflow_p36/lib/python3.6/site-packages (from Jinja2>=2.7->bokeh==2.1.1->-r ../../requirements.txt (line 12)) (1.0)\n",
      "Requirement already satisfied: notebook>=4.4.1 in /home/ec2-user/anaconda3/envs/tensorflow_p36/lib/python3.6/site-packages (from widgetsnbextension~=3.5.0->ipywidgets==7.5.1->-r ../../requirements.txt (line 14)) (5.5.0)\n",
      "Requirement already satisfied: prompt-toolkit<2.0.0,>=1.0.15 in /home/ec2-user/anaconda3/envs/tensorflow_p36/lib/python3.6/site-packages (from ipython>=4.0.0; python_version >= \"3.3\"->ipywidgets==7.5.1->-r ../../requirements.txt (line 14)) (1.0.15)\n",
      "Requirement already satisfied: jedi>=0.10 in /home/ec2-user/anaconda3/envs/tensorflow_p36/lib/python3.6/site-packages (from ipython>=4.0.0; python_version >= \"3.3\"->ipywidgets==7.5.1->-r ../../requirements.txt (line 14)) (0.12.0)\n",
      "Requirement already satisfied: backcall in /home/ec2-user/anaconda3/envs/tensorflow_p36/lib/python3.6/site-packages (from ipython>=4.0.0; python_version >= \"3.3\"->ipywidgets==7.5.1->-r ../../requirements.txt (line 14)) (0.1.0)\n",
      "Requirement already satisfied: simplegeneric>0.8 in /home/ec2-user/anaconda3/envs/tensorflow_p36/lib/python3.6/site-packages (from ipython>=4.0.0; python_version >= \"3.3\"->ipywidgets==7.5.1->-r ../../requirements.txt (line 14)) (0.8.1)\n",
      "Requirement already satisfied: pygments in /home/ec2-user/anaconda3/envs/tensorflow_p36/lib/python3.6/site-packages (from ipython>=4.0.0; python_version >= \"3.3\"->ipywidgets==7.5.1->-r ../../requirements.txt (line 14)) (2.2.0)\n",
      "Requirement already satisfied: decorator in /home/ec2-user/anaconda3/envs/tensorflow_p36/lib/python3.6/site-packages (from ipython>=4.0.0; python_version >= \"3.3\"->ipywidgets==7.5.1->-r ../../requirements.txt (line 14)) (4.3.0)\n",
      "Requirement already satisfied: pexpect; sys_platform != \"win32\" in /home/ec2-user/anaconda3/envs/tensorflow_p36/lib/python3.6/site-packages (from ipython>=4.0.0; python_version >= \"3.3\"->ipywidgets==7.5.1->-r ../../requirements.txt (line 14)) (4.5.0)\n",
      "Requirement already satisfied: pickleshare in /home/ec2-user/anaconda3/envs/tensorflow_p36/lib/python3.6/site-packages (from ipython>=4.0.0; python_version >= \"3.3\"->ipywidgets==7.5.1->-r ../../requirements.txt (line 14)) (0.7.4)\n",
      "Requirement already satisfied: jupyter_client in /home/ec2-user/anaconda3/envs/tensorflow_p36/lib/python3.6/site-packages (from ipykernel>=4.5.1->ipywidgets==7.5.1->-r ../../requirements.txt (line 14)) (5.2.3)\n",
      "Requirement already satisfied: ipython_genutils in /home/ec2-user/anaconda3/envs/tensorflow_p36/lib/python3.6/site-packages (from traitlets>=4.3.1->ipywidgets==7.5.1->-r ../../requirements.txt (line 14)) (0.2.0)\n",
      "Requirement already satisfied: jsonschema!=2.5.0,>=2.4 in /home/ec2-user/anaconda3/envs/tensorflow_p36/lib/python3.6/site-packages (from nbformat>=4.2.0->ipywidgets==7.5.1->-r ../../requirements.txt (line 14)) (2.6.0)\n",
      "Requirement already satisfied: jupyter_core in /home/ec2-user/anaconda3/envs/tensorflow_p36/lib/python3.6/site-packages (from nbformat>=4.2.0->ipywidgets==7.5.1->-r ../../requirements.txt (line 14)) (4.4.0)\n",
      "Requirement already satisfied: requests-oauthlib>=0.7.0 in /home/ec2-user/anaconda3/envs/tensorflow_p36/lib/python3.6/site-packages (from google-auth-oauthlib<0.5,>=0.4.1->tensorboard<2.3.0,>=2.2.0->tensorflow-gpu>=2.2.0->-r ../../requirements.txt (line 1)) (1.3.0)\n",
      "Requirement already satisfied: chardet<4,>=3.0.2 in /home/ec2-user/anaconda3/envs/tensorflow_p36/lib/python3.6/site-packages (from requests<3,>=2.21.0->tensorboard<2.3.0,>=2.2.0->tensorflow-gpu>=2.2.0->-r ../../requirements.txt (line 1)) (3.0.4)\n",
      "Requirement already satisfied: urllib3!=1.25.0,!=1.25.1,<1.26,>=1.21.1 in /home/ec2-user/anaconda3/envs/tensorflow_p36/lib/python3.6/site-packages (from requests<3,>=2.21.0->tensorboard<2.3.0,>=2.2.0->tensorflow-gpu>=2.2.0->-r ../../requirements.txt (line 1)) (1.25.9)\n",
      "Requirement already satisfied: idna<3,>=2.5 in /home/ec2-user/anaconda3/envs/tensorflow_p36/lib/python3.6/site-packages (from requests<3,>=2.21.0->tensorboard<2.3.0,>=2.2.0->tensorflow-gpu>=2.2.0->-r ../../requirements.txt (line 1)) (2.10)\n",
      "Requirement already satisfied: certifi>=2017.4.17 in /home/ec2-user/anaconda3/envs/tensorflow_p36/lib/python3.6/site-packages (from requests<3,>=2.21.0->tensorboard<2.3.0,>=2.2.0->tensorflow-gpu>=2.2.0->-r ../../requirements.txt (line 1)) (2020.6.20)\n",
      "Requirement already satisfied: rsa<5,>=3.1.4; python_version >= \"3\" in /home/ec2-user/anaconda3/envs/tensorflow_p36/lib/python3.6/site-packages (from google-auth<2,>=1.6.3->tensorboard<2.3.0,>=2.2.0->tensorflow-gpu>=2.2.0->-r ../../requirements.txt (line 1)) (4.6)\n",
      "Requirement already satisfied: cachetools<5.0,>=2.0.0 in /home/ec2-user/anaconda3/envs/tensorflow_p36/lib/python3.6/site-packages (from google-auth<2,>=1.6.3->tensorboard<2.3.0,>=2.2.0->tensorflow-gpu>=2.2.0->-r ../../requirements.txt (line 1)) (4.1.1)\n",
      "Requirement already satisfied: pyasn1-modules>=0.2.1 in /home/ec2-user/anaconda3/envs/tensorflow_p36/lib/python3.6/site-packages (from google-auth<2,>=1.6.3->tensorboard<2.3.0,>=2.2.0->tensorflow-gpu>=2.2.0->-r ../../requirements.txt (line 1)) (0.2.8)\n",
      "Requirement already satisfied: heapdict in /home/ec2-user/anaconda3/envs/tensorflow_p36/lib/python3.6/site-packages (from zict>=0.1.3->distributed>=2.0; extra == \"complete\"->dask[complete]>=2.17.2->-r ../../requirements.txt (line 7)) (1.0.0)\n",
      "Requirement already satisfied: immutables>=0.9 in /home/ec2-user/anaconda3/envs/tensorflow_p36/lib/python3.6/site-packages (from contextvars; python_version < \"3.7\"->distributed>=2.0; extra == \"complete\"->dask[complete]>=2.17.2->-r ../../requirements.txt (line 7)) (0.14)\n",
      "Requirement already satisfied: s3transfer<0.4.0,>=0.3.0 in /home/ec2-user/anaconda3/envs/tensorflow_p36/lib/python3.6/site-packages (from boto3>=1.13.6->sagemaker==1.58.2->ezsmdeploy->-r ../../requirements.txt (line 9)) (0.3.3)\n",
      "Requirement already satisfied: jmespath<1.0.0,>=0.7.1 in /home/ec2-user/anaconda3/envs/tensorflow_p36/lib/python3.6/site-packages (from boto3>=1.13.6->sagemaker==1.58.2->ezsmdeploy->-r ../../requirements.txt (line 9)) (0.9.4)\n",
      "Requirement already satisfied: botocore<1.18.0,>=1.17.16 in /home/ec2-user/anaconda3/envs/tensorflow_p36/lib/python3.6/site-packages (from boto3>=1.13.6->sagemaker==1.58.2->ezsmdeploy->-r ../../requirements.txt (line 9)) (1.17.16)\n",
      "Requirement already satisfied: zipp>=0.5 in /home/ec2-user/anaconda3/envs/tensorflow_p36/lib/python3.6/site-packages (from importlib-metadata>=1.4.0->sagemaker==1.58.2->ezsmdeploy->-r ../../requirements.txt (line 9)) (3.1.0)\n",
      "Requirement already satisfied: terminado>=0.8.1 in /home/ec2-user/anaconda3/envs/tensorflow_p36/lib/python3.6/site-packages (from notebook>=4.4.1->widgetsnbextension~=3.5.0->ipywidgets==7.5.1->-r ../../requirements.txt (line 14)) (0.8.1)\n",
      "Requirement already satisfied: nbconvert in /home/ec2-user/anaconda3/envs/tensorflow_p36/lib/python3.6/site-packages (from notebook>=4.4.1->widgetsnbextension~=3.5.0->ipywidgets==7.5.1->-r ../../requirements.txt (line 14)) (5.4.1)\n",
      "Requirement already satisfied: pyzmq>=17 in /home/ec2-user/anaconda3/envs/tensorflow_p36/lib/python3.6/site-packages (from notebook>=4.4.1->widgetsnbextension~=3.5.0->ipywidgets==7.5.1->-r ../../requirements.txt (line 14)) (17.0.0)\n",
      "Requirement already satisfied: Send2Trash in /home/ec2-user/anaconda3/envs/tensorflow_p36/lib/python3.6/site-packages (from notebook>=4.4.1->widgetsnbextension~=3.5.0->ipywidgets==7.5.1->-r ../../requirements.txt (line 14)) (1.5.0)\n",
      "Requirement already satisfied: wcwidth in /home/ec2-user/anaconda3/envs/tensorflow_p36/lib/python3.6/site-packages (from prompt-toolkit<2.0.0,>=1.0.15->ipython>=4.0.0; python_version >= \"3.3\"->ipywidgets==7.5.1->-r ../../requirements.txt (line 14)) (0.1.7)\n",
      "Requirement already satisfied: parso>=0.2.0 in /home/ec2-user/anaconda3/envs/tensorflow_p36/lib/python3.6/site-packages (from jedi>=0.10->ipython>=4.0.0; python_version >= \"3.3\"->ipywidgets==7.5.1->-r ../../requirements.txt (line 14)) (0.2.0)\n",
      "Requirement already satisfied: ptyprocess>=0.5 in /home/ec2-user/anaconda3/envs/tensorflow_p36/lib/python3.6/site-packages (from pexpect; sys_platform != \"win32\"->ipython>=4.0.0; python_version >= \"3.3\"->ipywidgets==7.5.1->-r ../../requirements.txt (line 14)) (0.5.2)\n",
      "Requirement already satisfied: oauthlib>=3.0.0 in /home/ec2-user/anaconda3/envs/tensorflow_p36/lib/python3.6/site-packages (from requests-oauthlib>=0.7.0->google-auth-oauthlib<0.5,>=0.4.1->tensorboard<2.3.0,>=2.2.0->tensorflow-gpu>=2.2.0->-r ../../requirements.txt (line 1)) (3.1.0)\n",
      "Requirement already satisfied: pyasn1>=0.1.3 in /home/ec2-user/anaconda3/envs/tensorflow_p36/lib/python3.6/site-packages (from rsa<5,>=3.1.4; python_version >= \"3\"->google-auth<2,>=1.6.3->tensorboard<2.3.0,>=2.2.0->tensorflow-gpu>=2.2.0->-r ../../requirements.txt (line 1)) (0.4.8)\n",
      "Requirement already satisfied: docutils<0.16,>=0.10 in /home/ec2-user/anaconda3/envs/tensorflow_p36/lib/python3.6/site-packages (from botocore<1.18.0,>=1.17.16->boto3>=1.13.6->sagemaker==1.58.2->ezsmdeploy->-r ../../requirements.txt (line 9)) (0.14)\n",
      "Requirement already satisfied: mistune>=0.8.1 in /home/ec2-user/anaconda3/envs/tensorflow_p36/lib/python3.6/site-packages (from nbconvert->notebook>=4.4.1->widgetsnbextension~=3.5.0->ipywidgets==7.5.1->-r ../../requirements.txt (line 14)) (0.8.3)\n",
      "Requirement already satisfied: entrypoints>=0.2.2 in /home/ec2-user/anaconda3/envs/tensorflow_p36/lib/python3.6/site-packages (from nbconvert->notebook>=4.4.1->widgetsnbextension~=3.5.0->ipywidgets==7.5.1->-r ../../requirements.txt (line 14)) (0.2.3)\n",
      "Requirement already satisfied: bleach in /home/ec2-user/anaconda3/envs/tensorflow_p36/lib/python3.6/site-packages (from nbconvert->notebook>=4.4.1->widgetsnbextension~=3.5.0->ipywidgets==7.5.1->-r ../../requirements.txt (line 14)) (2.1.3)\n",
      "Requirement already satisfied: pandocfilters>=1.4.1 in /home/ec2-user/anaconda3/envs/tensorflow_p36/lib/python3.6/site-packages (from nbconvert->notebook>=4.4.1->widgetsnbextension~=3.5.0->ipywidgets==7.5.1->-r ../../requirements.txt (line 14)) (1.4.2)\n",
      "Requirement already satisfied: testpath in /home/ec2-user/anaconda3/envs/tensorflow_p36/lib/python3.6/site-packages (from nbconvert->notebook>=4.4.1->widgetsnbextension~=3.5.0->ipywidgets==7.5.1->-r ../../requirements.txt (line 14)) (0.3.1)\n",
      "Requirement already satisfied: defusedxml in /home/ec2-user/anaconda3/envs/tensorflow_p36/lib/python3.6/site-packages (from nbconvert->notebook>=4.4.1->widgetsnbextension~=3.5.0->ipywidgets==7.5.1->-r ../../requirements.txt (line 14)) (0.6.0)\n",
      "Requirement already satisfied: html5lib!=1.0b1,!=1.0b2,!=1.0b3,!=1.0b4,!=1.0b5,!=1.0b6,!=1.0b7,!=1.0b8,>=0.99999999pre in /home/ec2-user/anaconda3/envs/tensorflow_p36/lib/python3.6/site-packages (from bleach->nbconvert->notebook>=4.4.1->widgetsnbextension~=3.5.0->ipywidgets==7.5.1->-r ../../requirements.txt (line 14)) (1.0.1)\n",
      "Requirement already satisfied: webencodings in /home/ec2-user/anaconda3/envs/tensorflow_p36/lib/python3.6/site-packages (from html5lib!=1.0b1,!=1.0b2,!=1.0b3,!=1.0b4,!=1.0b5,!=1.0b6,!=1.0b7,!=1.0b8,>=0.99999999pre->bleach->nbconvert->notebook>=4.4.1->widgetsnbextension~=3.5.0->ipywidgets==7.5.1->-r ../../requirements.txt (line 14)) (0.5.1)\n"
     ]
    }
   ],
   "source": [
    "!pwd\n",
    "!pip install -U pip\n",
    "!pip install -r ../../requirements.txt "
   ]
  },
  {
   "cell_type": "code",
   "execution_count": 2,
   "metadata": {
    "Collapsed": "false"
   },
   "outputs": [],
   "source": [
    "from absl import logging\n",
    "import tensorflow as tf\n",
    "import tensorflow_hub as hub\n",
    "import tensorflow_text\n",
    "import numpy as np\n",
    "import pandas as pd\n",
    "import dask.dataframe as dd\n",
    "import os\n",
    "import shutil\n",
    "import seaborn as sns\n",
    "import matplotlib.pyplot as plt\n",
    "from typing import Optional, List\n",
    "import itertools\n",
    "import csv"
   ]
  },
  {
   "cell_type": "code",
   "execution_count": 3,
   "metadata": {
    "Collapsed": "false"
   },
   "outputs": [
    {
     "name": "stdout",
     "output_type": "stream",
     "text": [
      "2.2.0\n"
     ]
    }
   ],
   "source": [
    "print(tf.__version__)"
   ]
  },
  {
   "cell_type": "code",
   "execution_count": 4,
   "metadata": {
    "Collapsed": "false"
   },
   "outputs": [
    {
     "name": "stdout",
     "output_type": "stream",
     "text": [
      "GPU Available:  True\n"
     ]
    }
   ],
   "source": [
    "has_gpu = any(x.device_type == 'GPU' for x in tf.config.list_physical_devices('GPU'))\n",
    "print('GPU Available: ', has_gpu)"
   ]
  },
  {
   "cell_type": "code",
   "execution_count": 6,
   "metadata": {
    "Collapsed": "false"
   },
   "outputs": [
    {
     "name": "stdout",
     "output_type": "stream",
     "text": [
      "MUSE will be loaded from ../../models/MUSE/large/000002\n",
      "Cleaned data is at ../../data/book-depository/cleaned\n",
      "Inference results will be saved at ../../data/book-depository/local-inferred\n"
     ]
    }
   ],
   "source": [
    "MUSE_VERSION = 2\n",
    "MUSE_BASE_URL = f\"https://tfhub.dev/google/universal-sentence-encoder-multilingual-large/{MUSE_VERSION}\"\n",
    "muse_url = f\"{MUSE_BASE_URL}\\?tf-hub-format=compressed\"\n",
    "cleaned_data_dir = '../../data/book-depository/cleaned'\n",
    "inferred_data_dir  = '../../data/book-depository/local-inferred'\n",
    "LOCAL_MUSE_PATH = f\"../../models/MUSE/large/{MUSE_VERSION:0>6d}\"\n",
    "print(f'MUSE will be loaded from {LOCAL_MUSE_PATH}')\n",
    "print(f'Cleaned data is at {cleaned_data_dir}')\n",
    "print(f'Inference results will be saved at {inferred_data_dir}')"
   ]
  },
  {
   "cell_type": "code",
   "execution_count": null,
   "metadata": {},
   "outputs": [],
   "source": [
    "!rm -rf {LOCAL_MUSE_PATH}\n",
    "!mkdir -p {LOCAL_MUSE_PATH}\n",
    "!curl -L {muse_url} | tar -zxvC {LOCAL_MUSE_PATH}"
   ]
  },
  {
   "cell_type": "markdown",
   "metadata": {},
   "source": [
    "## Local transformation"
   ]
  },
  {
   "cell_type": "markdown",
   "metadata": {},
   "source": [
    "Here we'll build a simple notebook that can be run to generate the embeddings for the raw input data."
   ]
  },
  {
   "cell_type": "markdown",
   "metadata": {},
   "source": [
    "Because Dask does lazy execution, the read operation returns immediately. No data has been loaded so far. We have also limited the description length to avoid "
   ]
  },
  {
   "cell_type": "code",
   "execution_count": 45,
   "metadata": {
    "Collapsed": "false"
   },
   "outputs": [],
   "source": [
    "dataset = dd.read_csv(\n",
    "   f'{cleaned_data_dir}/dataset-*.csv', header=0\n",
    ")"
   ]
  },
  {
   "cell_type": "markdown",
   "metadata": {},
   "source": [
    "MUSE large consumes a lot of GPU memory. If you have loaded the model on another notebook, the next cell will probably fail. Ideally, shut down the kernel on the other notebook, and if the cell below has already failed, restart the kernel on this one to clean up any partial loading that may still be taking memory. You'll have to rerun the cells above after restarting the kernel."
   ]
  },
  {
   "cell_type": "code",
   "execution_count": 8,
   "metadata": {
    "Collapsed": "false"
   },
   "outputs": [],
   "source": [
    "logging.set_verbosity(logging.ERROR)\n",
    "model = hub.load(LOCAL_MUSE_PATH)\n",
    "\n",
    "def embed(input):\n",
    "    return model(input)"
   ]
  },
  {
   "cell_type": "markdown",
   "metadata": {},
   "source": [
    "The next cell defines a mapped operation to generate the embedding on a Pandas DataFrame on a chunk at a time. The amount of memory taken by the model limits the parallel processing that can be done by it. Therefore, chunk size has to be relatively small. The length of all the texts on a chunk is also a factor"
   ]
  },
  {
   "cell_type": "code",
   "execution_count": 46,
   "metadata": {
    "Collapsed": "false"
   },
   "outputs": [],
   "source": [
    "def grouper(n, iterable):\n",
    "    it = iter(iterable)\n",
    "    while True:\n",
    "        chunk = tuple(itertools.islice(it, n))\n",
    "        if not chunk:\n",
    "            return\n",
    "        yield chunk\n",
    "\n",
    "def embed_description(df: pd.DataFrame, chunk_size=10):\n",
    "    return pd.Series([embedding.numpy().tolist() for chunk in grouper(chunk_size, df.description) for embedding in embed(chunk)['outputs']], name='embedding')"
   ]
  },
  {
   "cell_type": "code",
   "execution_count": 47,
   "metadata": {
    "Collapsed": "false"
   },
   "outputs": [],
   "source": [
    "dataset['embeddings']=dataset.map_partitions(embed_description, meta=pd.Series(name='embedding', dtype='float32'))"
   ]
  },
  {
   "cell_type": "code",
   "execution_count": 48,
   "metadata": {
    "Collapsed": "false"
   },
   "outputs": [
    {
     "data": {
      "text/html": [
       "<div>\n",
       "<style scoped>\n",
       "    .dataframe tbody tr th:only-of-type {\n",
       "        vertical-align: middle;\n",
       "    }\n",
       "\n",
       "    .dataframe tbody tr th {\n",
       "        vertical-align: top;\n",
       "    }\n",
       "\n",
       "    .dataframe thead th {\n",
       "        text-align: right;\n",
       "    }\n",
       "</style>\n",
       "<table border=\"1\" class=\"dataframe\">\n",
       "  <thead>\n",
       "    <tr style=\"text-align: right;\">\n",
       "      <th></th>\n",
       "      <th>authors</th>\n",
       "      <th>categories</th>\n",
       "      <th>description</th>\n",
       "      <th>lang</th>\n",
       "      <th>title</th>\n",
       "      <th>n_authors</th>\n",
       "      <th>n_categories</th>\n",
       "      <th>descr_len_words</th>\n",
       "      <th>detected_lang</th>\n",
       "      <th>embeddings</th>\n",
       "    </tr>\n",
       "  </thead>\n",
       "  <tbody>\n",
       "    <tr>\n",
       "      <th>0</th>\n",
       "      <td>[3]</td>\n",
       "      <td>[360, 2632]</td>\n",
       "      <td>A fake marriage is the last thing he wants . ....</td>\n",
       "      <td>en</td>\n",
       "      <td>The Mercenary : Order of the Broken Blade</td>\n",
       "      <td>1</td>\n",
       "      <td>2</td>\n",
       "      <td>17</td>\n",
       "      <td>en</td>\n",
       "      <td>[0.02523178420960903, 0.061265941709280014, -0...</td>\n",
       "    </tr>\n",
       "    <tr>\n",
       "      <th>1</th>\n",
       "      <td>[4]</td>\n",
       "      <td>[1703, 2771, 2818, 3097]</td>\n",
       "      <td>Once the dust has settled, you'll need to know...</td>\n",
       "      <td>en</td>\n",
       "      <td>100 Skills You'll Need for the End of the Worl...</td>\n",
       "      <td>1</td>\n",
       "      <td>4</td>\n",
       "      <td>97</td>\n",
       "      <td>en</td>\n",
       "      <td>[-0.02368723228573799, -0.09728001058101654, 0...</td>\n",
       "    </tr>\n",
       "    <tr>\n",
       "      <th>2</th>\n",
       "      <td>[5]</td>\n",
       "      <td>[819, 3364, 1853, 2977]</td>\n",
       "      <td>The Daily Mail and the Spectator Book of the Y...</td>\n",
       "      <td>en</td>\n",
       "      <td>How to Land a Plane</td>\n",
       "      <td>1</td>\n",
       "      <td>4</td>\n",
       "      <td>11</td>\n",
       "      <td>en</td>\n",
       "      <td>[-0.05312519147992134, 0.024528754875063896, 0...</td>\n",
       "    </tr>\n",
       "    <tr>\n",
       "      <th>3</th>\n",
       "      <td>[6]</td>\n",
       "      <td>[1694, 1703, 2818]</td>\n",
       "      <td>Easy, do-able, down to earth ideas and suggest...</td>\n",
       "      <td>en</td>\n",
       "      <td>The Sustainable(ish) Living Guide : Everything...</td>\n",
       "      <td>1</td>\n",
       "      <td>3</td>\n",
       "      <td>15</td>\n",
       "      <td>en</td>\n",
       "      <td>[0.016959479078650475, -0.047762680798769, 0.0...</td>\n",
       "    </tr>\n",
       "    <tr>\n",
       "      <th>4</th>\n",
       "      <td>[7]</td>\n",
       "      <td>[1843, 2967, 2969]</td>\n",
       "      <td>Mini celebrates 60 amazing years of this iconi...</td>\n",
       "      <td>en</td>\n",
       "      <td>Mini : 60 Years</td>\n",
       "      <td>1</td>\n",
       "      <td>3</td>\n",
       "      <td>20</td>\n",
       "      <td>en</td>\n",
       "      <td>[-0.08251623064279556, -0.05317999795079231, -...</td>\n",
       "    </tr>\n",
       "  </tbody>\n",
       "</table>\n",
       "</div>"
      ],
      "text/plain": [
       "  authors                categories  \\\n",
       "0     [3]               [360, 2632]   \n",
       "1     [4]  [1703, 2771, 2818, 3097]   \n",
       "2     [5]   [819, 3364, 1853, 2977]   \n",
       "3     [6]        [1694, 1703, 2818]   \n",
       "4     [7]        [1843, 2967, 2969]   \n",
       "\n",
       "                                         description lang  \\\n",
       "0  A fake marriage is the last thing he wants . ....   en   \n",
       "1  Once the dust has settled, you'll need to know...   en   \n",
       "2  The Daily Mail and the Spectator Book of the Y...   en   \n",
       "3  Easy, do-able, down to earth ideas and suggest...   en   \n",
       "4  Mini celebrates 60 amazing years of this iconi...   en   \n",
       "\n",
       "                                               title  n_authors  n_categories  \\\n",
       "0          The Mercenary : Order of the Broken Blade          1             2   \n",
       "1  100 Skills You'll Need for the End of the Worl...          1             4   \n",
       "2                                How to Land a Plane          1             4   \n",
       "3  The Sustainable(ish) Living Guide : Everything...          1             3   \n",
       "4                                    Mini : 60 Years          1             3   \n",
       "\n",
       "   descr_len_words detected_lang  \\\n",
       "0               17            en   \n",
       "1               97            en   \n",
       "2               11            en   \n",
       "3               15            en   \n",
       "4               20            en   \n",
       "\n",
       "                                          embeddings  \n",
       "0  [0.02523178420960903, 0.061265941709280014, -0...  \n",
       "1  [-0.02368723228573799, -0.09728001058101654, 0...  \n",
       "2  [-0.05312519147992134, 0.024528754875063896, 0...  \n",
       "3  [0.016959479078650475, -0.047762680798769, 0.0...  \n",
       "4  [-0.08251623064279556, -0.05317999795079231, -...  "
      ]
     },
     "execution_count": 48,
     "metadata": {},
     "output_type": "execute_result"
    }
   ],
   "source": [
    "dataset.head()"
   ]
  },
  {
   "cell_type": "markdown",
   "metadata": {},
   "source": [
    "The next cell takes a naive approach to generating all embeddings. It runs them all almost sequentially, all in the local instance, and then saves the results to two files. The chunk size above (10) allows micro-batches, but it was tested and can't be increased unless description length is always small (one or two sentences)."
   ]
  },
  {
   "cell_type": "code",
   "execution_count": 49,
   "metadata": {
    "Collapsed": "false"
   },
   "outputs": [
    {
     "name": "stdout",
     "output_type": "stream",
     "text": [
      "CPU times: user 4h 4min 13s, sys: 48min 52s, total: 4h 53min 6s\n",
      "Wall time: 1h 43min 46s\n"
     ]
    }
   ],
   "source": [
    "%%time\n",
    "\n",
    "shutil.rmtree(inferred_data_dir, ignore_errors=True)\n",
    "os.makedirs(inferred_data_dir)\n",
    "\n",
    "small_data = dataset.sample(frac=0.01)\n",
    "dataset.embeddings.to_csv(f'{inferred_data_dir}/embeddings-*.csv', compute=True, index=True, header=True, quoting=csv.QUOTE_NONNUMERIC)\n",
    "dataset.drop('embeddings', axis=1).to_csv(f'{inferred_data_dir}/data-*.csv', compute=True, index=True, quoting=csv.QUOTE_NONNUMERIC)"
   ]
  },
  {
   "cell_type": "code",
   "execution_count": null,
   "metadata": {
    "Collapsed": "false"
   },
   "outputs": [],
   "source": []
  }
 ],
 "metadata": {
  "kernelspec": {
   "display_name": "conda_tensorflow_p36",
   "language": "python",
   "name": "conda_tensorflow_p36"
  },
  "language_info": {
   "codemirror_mode": {
    "name": "ipython",
    "version": 3
   },
   "file_extension": ".py",
   "mimetype": "text/x-python",
   "name": "python",
   "nbconvert_exporter": "python",
   "pygments_lexer": "ipython3",
   "version": "3.6.6"
  }
 },
 "nbformat": 4,
 "nbformat_minor": 4
}
